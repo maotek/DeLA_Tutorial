{
 "cells": [
  {
   "cell_type": "markdown",
   "id": "b6af31c2-637a-4c84-bcb0-9786b66e808f",
   "metadata": {},
   "source": [
    "# DeLA Interactive Notebook\n",
    "\n",
    "Created by: Maosheng Jiang\n",
    "\n",
    "This notebook is a supplementary educational tool to illustrate how the spatial-regularizer works in the paper: [Decoupled Local Aggregation for Point Cloud Learning](https://arxiv.org/abs/2308.16532)."
   ]
  },
  {
   "cell_type": "markdown",
   "id": "a616b777-e232-4b64-ba8c-af5aadfc1369",
   "metadata": {},
   "source": [
    "## Preliminaries \n",
    "\n",
    "Traditional local aggregators (e.g. DGCNN, PointNet++) will, at each aggregation layer, recalculate the neighbors in the feature space or in the coordinate space. If a lot of aggregation layers are stacked, then this will become computationally expensive. Decoupled Local Aggregation (DeLA) proposes Decoupled Local Aggregation: we compute and encode the neighbourhood of points beforehand and avoid recomputing this in each successive layer.\n",
    "\n",
    "![Traditional Aggregation vs Decoupled Local Aggregation](local_aggregation.png)\n",
    "\n",
    "In the image above, we can see that in the case of DeLA, we only compute the neighborhood once (which then gets encoded within the point features), and the subsequent layer do not have to recompute the neighborhood again.\n",
    "\n",
    "The downside of this, is that the encoding of the relative distance may degrade deeper into the layers. For that, we employ a spatial regularization term, which essentially trains a small MLP in parallel to keep the encoded relative distance intact within an aggregation layer. This is exactly the technique that we are going to explore in this notebook. For more information about DeLA, please refer to the original paper."
   ]
  },
  {
   "cell_type": "markdown",
   "id": "9714d7ea-2ac7-4643-97f9-c9f47a0ec972",
   "metadata": {},
   "source": [
    "First, let's import the required libraries:"
   ]
  },
  {
   "cell_type": "code",
   "execution_count": 2,
   "id": "baef8cdb-dc36-4771-86c1-d5fb27d17c75",
   "metadata": {},
   "outputs": [],
   "source": [
    "import numpy as np\n",
    "import pandas as pd\n",
    "from pathlib import Path\n",
    "import torch\n",
    "import torch.nn as nn\n",
    "from torch.utils.data import Dataset, DataLoader\n",
    "import matplotlib.pyplot as plt\n",
    "import torch.optim as optim\n",
    "import matplotlib.cm as cm\n",
    "from ipywidgets import interact, IntSlider"
   ]
  },
  {
   "cell_type": "markdown",
   "id": "9d32c4f7-1f3b-4f39-a1c3-0e9e2b5209e6",
   "metadata": {},
   "source": [
    "----\n",
    "## Walkthrough example\n",
    "\n",
    "To illustrate the regularization term, we will train a simple point cloud network to classify 2D point clouds of handwritten digits (MNIST). This dataset contains 60000 2D point clouds , each consisting of a maximum of 351 2D points with a corresponding value which specifies how large a point is. The test set contains 10000 2D point clouds. For more information, refer to the kaggle source: https://www.kaggle.com/datasets/cristiangarcia/pointcloudmnist2d/data"
   ]
  },
  {
   "cell_type": "markdown",
   "id": "c3c5ff68-b27a-4bc2-baf4-8e6e6a9c5627",
   "metadata": {},
   "source": [
    "Now, let's get familiar with the dataset and load it:"
   ]
  },
  {
   "cell_type": "code",
   "execution_count": 3,
   "id": "618f3d69-2b96-4c23-a0f7-7ff65e5da444",
   "metadata": {},
   "outputs": [],
   "source": [
    "TRAIN_PATH = Path(\"archive/train.csv\")\n",
    "TEST_PATH = Path(\"archive/test.csv\")\n",
    "\n",
    "\n",
    "def read_data(path):\n",
    "    return pd.read_csv(path)\n",
    "\n",
    "\n",
    "def preprocess_data(df):\n",
    "    X = df[df.columns[1:]].to_numpy()\n",
    "    y = df[df.columns[0]].to_numpy()\n",
    "\n",
    "    X = X.reshape((X.shape[0], 351, 3))\n",
    "    X = X[:, :, :-1] # Drop the value column (not needed)\n",
    "    y = y.reshape(y.shape[0], 1)\n",
    "\n",
    "    # X: [60000, 351, 3], y: [60000, 1]\n",
    "    return torch.tensor(X, dtype=torch.float32), torch.tensor(y, dtype=torch.float32)\n",
    "\n",
    "X_train, y_train = preprocess_data(read_data(TRAIN_PATH))\n",
    "X_test, y_test = preprocess_data(read_data(TEST_PATH))"
   ]
  },
  {
   "cell_type": "markdown",
   "id": "b63068c0-f97e-474c-a591-782e92368ede",
   "metadata": {},
   "source": [
    "All point clouds have a fixed number of points (351). This is because it is the maximum number of points found in a single point cloud of the dataset. If a point cloud has less than 351 points, then the rest of the points are masked out as -1. So we need to account for this."
   ]
  },
  {
   "cell_type": "markdown",
   "id": "a3740428-bd24-44cf-ad40-14bafe25c261",
   "metadata": {},
   "source": [
    "Let's visualize a point cloud!"
   ]
  },
  {
   "cell_type": "code",
   "execution_count": 19,
   "id": "2f9d1a20-8b08-40e8-9e39-d32c385103ab",
   "metadata": {},
   "outputs": [
    {
     "data": {
      "image/png": "[encoded data removed]",
      "text/plain": [
       "<Figure size 500x500 with 1 Axes>"
      ]
     },
     "metadata": {},
     "output_type": "display_data"
    }
   ],
   "source": [
    "idx = np.random.randint(X_train.shape[0])\n",
    "\n",
    "pc = X_train[idx]\n",
    "\n",
    "# Keep only the real points (where x != -1 and y != -1)\n",
    "pc = pc[(pc[:, 0] != -1) & (pc[:, 1] != -1)]\n",
    "label = y_train[idx].item()\n",
    "\n",
    "plt.figure(figsize=(5,5))\n",
    "plt.scatter(pc[:, 0], pc[:, 1])\n",
    "plt.title(f\"Example MNIST point cloud of digit {int(label)}\")\n",
    "plt.xlabel(\"x\")\n",
    "plt.ylabel(\"y\")\n",
    "plt.show()"
   ]
  },
  {
   "cell_type": "markdown",
   "id": "6d21c453-608f-4928-affa-77c3d7a1757f",
   "metadata": {},
   "source": [
    "Now we have the MNIST 2D point clouds, let's make the data loader for the train and test dataset."
   ]
  },
  {
   "cell_type": "code",
   "execution_count": 37,
   "id": "3957d0e2-d1c1-4285-ad17-588d6864d5c0",
   "metadata": {},
   "outputs": [],
   "source": [
    "class PointCloudDataset(Dataset):\n",
    "    def __init__(self, X, y):\n",
    "        \"\"\"\n",
    "        X: [num_samples, 351, 2] \n",
    "        y: [num_samples, 1]\n",
    "        \"\"\"\n",
    "        self.X = X\n",
    "        self.y = y\n",
    "\n",
    "    def __len__(self):\n",
    "        return len(self.X)\n",
    "\n",
    "    def __getitem__(self, item):\n",
    "        pc = self.X[item]\n",
    "        label = self.y[item]\n",
    "\n",
    "        # Keep only the real points (where x != -1 and y != -1)\n",
    "        pc = pc[(pc[:, 0] != -1) & (pc[:, 1] != -1)]\n",
    "\n",
    "        return pc, label\n",
    "\n",
    "\n",
    "# Since the point clouds have variable amount of points, we cannot use default batching.\n",
    "# We need to implement a custom collate_fn which will be passed into the dataloader\n",
    "# to create a custom batch, which is a list of variable point clouds\n",
    "def collate_fn(batch):\n",
    "    coords_list = [item[0] for item in batch]\n",
    "    labels      = [item[1] for item in batch]\n",
    "    return coords_list, labels"
   ]
  },
  {
   "cell_type": "code",
   "execution_count": 58,
   "id": "f1c00ffa-c529-43bd-b927-dcc112ee5783",
   "metadata": {},
   "outputs": [],
   "source": [
    "train_ds = PointCloudDataset(X_train, y_train)\n",
    "test_ds = PointCloudDataset(X_test, y_test)\n",
    "\n",
    "train_loader = DataLoader(train_ds, batch_size=1, collate_fn=collate_fn, shuffle=True)\n",
    "test_loader = DataLoader(test_ds, batch_size=1, collate_fn=collate_fn, shuffle=True)"
   ]
  },
  {
   "cell_type": "markdown",
   "id": "72426f70-48b3-4d55-8cc5-90499e61239f",
   "metadata": {},
   "source": [
    "---\n",
    "## Model\n",
    "\n",
    "Now we have the dataloaders ready, it is time to define a basic 2D point cloud classification model with 3 local aggregation layers with global max pooling."
   ]
  },
  {
   "cell_type": "markdown",
   "id": "31fa0bc8-4812-4d51-b05c-993fe93f3ac9",
   "metadata": {},
   "source": [
    "First we precompute the relative distances of the k neighbors of each point. We are using a basic method that first computes for each point the euclidean distance to all other points. In the original DeLA implementation, the authors used an knn algorithm with KD-Trees which is more efficient."
   ]
  },
  {
   "cell_type": "code",
   "execution_count": 23,
   "id": "8cc6e484-b053-4252-99a8-7acc17aa0905",
   "metadata": {},
   "outputs": [
    {
     "name": "stdout",
     "output_type": "stream",
     "text": [
      "tensor([[1, 2],\n",
      "        [0, 2],\n",
      "        [1, 3],\n",
      "        [2, 1]])\n",
      "tensor([[[ 0.,  1.],\n",
      "         [ 0.,  2.]],\n",
      "\n",
      "        [[ 0., -1.],\n",
      "         [ 0.,  1.]],\n",
      "\n",
      "        [[ 0., -1.],\n",
      "         [ 0.,  1.]],\n",
      "\n",
      "        [[ 0., -1.],\n",
      "         [ 0., -2.]]])\n"
     ]
    }
   ],
   "source": [
    "def knn_indices(pc, k):\n",
    "    \"\"\"\n",
    "    pc: [N,2] point cloud\n",
    "    returns indices: [N,k] tensor of neighbor indices for each point\n",
    "    \"\"\"\n",
    "    dist = torch.cdist(pc, pc, p=2)\n",
    "    values, indices = torch.topk(dist, k+1, largest=False, dim=-1)\n",
    "\n",
    "    # Remove the index of its own point\n",
    "    return indices[:, 1:]\n",
    "\n",
    "\n",
    "# Sanity check\n",
    "test_pc = torch.tensor([[0., 0.],[0., 1.],[0., 2.],[0., 3.]]) # [N, 2] out test point cloud\n",
    "indices = knn_indices(test_pc, 2) # [N, k] indices of of the neighbors\n",
    "print(indices)\n",
    "rel_dist = test_pc[indices] - test_pc.unsqueeze(1) # [N, k, 2] relative distances for each neighbor\n",
    "print(rel_dist)"
   ]
  },
  {
   "cell_type": "markdown",
   "id": "f3c87993-5744-4a90-84b5-4cd9a3aeff45",
   "metadata": {},
   "source": [
    "---\n",
    "## Defining a standard local aggregation layer\n",
    "\n",
    "Now, we will define a standard local aggregation layer."
   ]
  },
  {
   "cell_type": "code",
   "execution_count": 24,
   "id": "2ff0025d-2fa3-4e41-a78e-cb5faed41c81",
   "metadata": {},
   "outputs": [
    {
     "data": {
      "text/plain": [
       "tensor([[ 0.6587, -0.2376,  0.1579,  0.1271, -0.4543, -0.1646],\n",
       "        [ 0.5284, -0.1272,  0.0682,  0.3469, -0.3305, -0.0605],\n",
       "        [ 0.5008, -0.1615,  0.0847,  0.3579, -0.2915, -0.0425],\n",
       "        [ 0.7406, -0.1816, -0.0659,  0.4541, -0.2540, -0.0453]],\n",
       "       grad_fn=<MaxBackward0>)"
      ]
     },
     "execution_count": 24,
     "metadata": {},
     "output_type": "execute_result"
    }
   ],
   "source": [
    "class LocalAggrLayer(nn.Module):\n",
    "    \"\"\"\n",
    "    Standard local aggregation layer\n",
    "    \"\"\"\n",
    "    def __init__(self, in_channels, out_channels):\n",
    "        super().__init__()\n",
    "        self.in_channels = in_channels\n",
    "        self.out_channels = out_channels\n",
    "\n",
    "        self.mlp = nn.Sequential(\n",
    "            nn.Linear(in_channels*2 + 2, out_channels),\n",
    "            nn.ReLU(),\n",
    "            nn.Linear(out_channels, out_channels)\n",
    "        )\n",
    "        \n",
    "\n",
    "    def forward(self, pc, knn, rel_dist):\n",
    "        \"\"\"\n",
    "        pc: [N, in_channels] point cloud\n",
    "        knn: [N, k] precomputed neighbors indices\n",
    "        rel_dist: [N, k, 2] relative distances\n",
    "        \"\"\"\n",
    "\n",
    "        # A tensor where each point N has the features of its k neighbors\n",
    "        neighbor_feat = pc[knn] # [N, k, in_channels]\n",
    "\n",
    "        # A tensor with features of each point\n",
    "        center_feat = pc.unsqueeze(1).expand_as(neighbor_feat) # [N, k, in_channels]\n",
    "\n",
    "        # A tensor with relative distances of each neighbor to a point\n",
    "        rel_dist = rel_dist # [N, k, 2]\n",
    "\n",
    "        # Now we make up the final feature for each neighbor for message passing: [center_features, neighbor_features, relative_distance]\n",
    "        message_feat = torch.concat([center_feat, neighbor_feat, rel_dist], dim=2) # [N, k, in_channel*2 + 2]\n",
    "\n",
    "        result = self.mlp(message_feat) # [N, k, out_channels]\n",
    "\n",
    "        # Now we aggregate using max (basically a MaxPool)\n",
    "        values, indices = torch.max(result, dim=1)\n",
    "\n",
    "        return values\n",
    "\n",
    "\n",
    "# Sanity check\n",
    "x = LocalAggrLayer(2, 6) # A layer with 2D input and output 6D feature vector\n",
    "test_pc = torch.tensor([[0., 0.],[0., 1.],[0., 2.],[0., 3.]]) # Our test point cloud\n",
    "indices = knn_indices(test_pc, 2) # Calculate the indices of 2 neighbors\n",
    "relative_distances = test_pc[indices] - test_pc.unsqueeze(1) # The relative distances of each neighbor\n",
    "x(torch.tensor([[0., 0.],[0., 1.],[0., 2.],[0., 3.]]), indices, relative_distances)"
   ]
  },
  {
   "cell_type": "markdown",
   "id": "d17c9fb2-27a5-46cb-a3c0-937620b85ee1",
   "metadata": {},
   "source": [
    "---\n",
    "## Model Training\n",
    "\n",
    "Now that we have defined a normal aggregation layer, let's start training it on our training set. First we will define the hyperparameters."
   ]
  },
  {
   "cell_type": "code",
   "execution_count": 66,
   "id": "bb502877-f173-4396-9ce6-a0aac7ddff35",
   "metadata": {},
   "outputs": [],
   "source": [
    "# These parameters will be utilized for both training the normal and the DeLA version\n",
    "\n",
    "device = torch.device('cpu')\n",
    "\n",
    "in_channels = 2\n",
    "hidden_channels = 16\n",
    "out_channels = 32\n",
    "k = 5\n",
    "classes = 10\n",
    "learning_rate = 0.001\n",
    "epochs = 1"
   ]
  },
  {
   "cell_type": "markdown",
   "id": "83bb2d2d-200b-4cc5-8259-4b27b9b628ca",
   "metadata": {},
   "source": [
    "Below, we will define our complete network that will predict the MNIST 2D point clouds. Notice that our network consists of 3 of our previously defined local aggregation layers. After applying a global max pool layer (just like in PointNet) we pass it through a fully connected layer to produce our predictions."
   ]
  },
  {
   "cell_type": "code",
   "execution_count": 40,
   "id": "c724bd2a-d913-42a6-a3c9-0741ea430977",
   "metadata": {},
   "outputs": [],
   "source": [
    "class GNN(nn.Module):\n",
    "    def __init__(self, in_channels, hidden_channels, out_channels):\n",
    "        super().__init__()\n",
    "        self.layer1 = LocalAggrLayer(in_channels, hidden_channels)\n",
    "        self.layer2 = LocalAggrLayer(hidden_channels, hidden_channels)\n",
    "        self.layer3 = LocalAggrLayer(hidden_channels, out_channels)\n",
    "        self.fc = nn.Linear(out_channels, classes)\n",
    "\n",
    "    \n",
    "    def forward(self, pc, knn, rel_dist):\n",
    "        \"\"\"\n",
    "        pc: [N, 2] point cloud\n",
    "        knn: [N, k] precomputed neighbors indices\n",
    "        rel_dist: [N, k, 2] relative distances\n",
    "        \"\"\"\n",
    "        x = self.layer1(pc, knn, rel_dist) # [N, in_channels]\n",
    "        x = self.layer2(x, knn, rel_dist) # [N, hidden_channels]\n",
    "        x = self.layer3(x, knn, rel_dist) # [N, out_channels]\n",
    "        \n",
    "        # Apply global max pooling\n",
    "        x, _ = torch.max(x, dim=0)\n",
    "\n",
    "        # Final classification head\n",
    "        x = self.fc(x)\n",
    "\n",
    "        return x"
   ]
  },
  {
   "cell_type": "markdown",
   "id": "2bd72af7-877f-463f-85dc-ebb6bad8c7ab",
   "metadata": {},
   "source": [
    "Then, we define the model, optimizer, and criterion and run the training loop."
   ]
  },
  {
   "cell_type": "code",
   "execution_count": 59,
   "id": "242f5888-e2a2-436e-8d1b-098bb0b7e23d",
   "metadata": {},
   "outputs": [
    {
     "name": "stdout",
     "output_type": "stream",
     "text": [
      "Epoch [1] 3200/60000, Accuracy: 0.30\n",
      "Epoch [1] 6400/60000, Accuracy: 0.44\n",
      "Epoch [1] 9600/60000, Accuracy: 0.52\n",
      "Epoch [1] 12800/60000, Accuracy: 0.57\n",
      "Epoch [1] 16000/60000, Accuracy: 0.61\n",
      "Epoch [1] 19200/60000, Accuracy: 0.64\n",
      "Epoch [1] 22400/60000, Accuracy: 0.67\n",
      "Epoch [1] 25600/60000, Accuracy: 0.69\n",
      "Epoch [1] 28800/60000, Accuracy: 0.71\n",
      "Epoch [1] 32000/60000, Accuracy: 0.73\n",
      "Epoch [1] 35200/60000, Accuracy: 0.75\n",
      "Epoch [1] 38400/60000, Accuracy: 0.76\n",
      "Epoch [1] 41600/60000, Accuracy: 0.77\n",
      "Epoch [1] 44800/60000, Accuracy: 0.78\n",
      "Epoch [1] 48000/60000, Accuracy: 0.79\n",
      "Epoch [1] 51200/60000, Accuracy: 0.80\n",
      "Epoch [1] 54400/60000, Accuracy: 0.80\n",
      "Epoch [1] 57600/60000, Accuracy: 0.81\n",
      "Epoch [1/1], Loss: 0.5512, Accuracy: 0.81\n"
     ]
    }
   ],
   "source": [
    "normal_model = GNN(in_channels, hidden_channels, out_channels).to(device)\n",
    "optimizer = optim.Adam(normal_model.parameters(), lr=learning_rate)\n",
    "criterion = nn.CrossEntropyLoss()\n",
    "\n",
    "# Train the model\n",
    "for epoch in range(epochs):\n",
    "    normal_model.train()\n",
    "    running_loss = 0.0\n",
    "    correct = 0\n",
    "    total = 0\n",
    "    \n",
    "    for points, labels in train_loader:\n",
    "        batch_loss = 0.0\n",
    "        correct_in_batch = 0\n",
    "\n",
    "        # Iterate over each point cloud in the batch\n",
    "        for i in range(len(points)):\n",
    "            pc = points[i].to(device)\n",
    "            label = labels[i].to(device)\n",
    "\n",
    "            knn = knn_indices(pc, k)\n",
    "\n",
    "            rel_dist = pc[knn] - pc.unsqueeze(1)\n",
    "\n",
    "            # Forward pass\n",
    "            outputs = normal_model(pc, knn, rel_dist)     \n",
    "            \n",
    "            # Compute loss\n",
    "            loss = criterion(outputs.unsqueeze(0), label.long())\n",
    "            batch_loss += loss\n",
    "            \n",
    "            _, predicted = torch.max(outputs, dim=0)\n",
    "            if predicted == label:\n",
    "                correct_in_batch += 1\n",
    "\n",
    "        # Track statistics\n",
    "        running_loss += batch_loss\n",
    "        correct += correct_in_batch\n",
    "        total += len(points)\n",
    "\n",
    "        optimizer.zero_grad()\n",
    "        batch_loss.backward()\n",
    "        optimizer.step()\n",
    "\n",
    "        # Print intermediary results each 3200 instances\n",
    "        if total % 3200 == 0:   \n",
    "            print(f\"Epoch [{epoch+1}] {total}/60000, Accuracy: {correct/total:.2f}\")\n",
    "\n",
    "    # Print statistics after each epoch\n",
    "    print(f\"Epoch [{epoch+1}/{epochs}], Loss: {running_loss/len(train_loader):.4f}, Accuracy: {correct/total:.2f}\")"
   ]
  },
  {
   "cell_type": "markdown",
   "id": "ce745021-2bf0-464d-ba74-8fa9aa1b9aba",
   "metadata": {},
   "source": [
    "---\n",
    "## Implementing Decoupled Local Aggregation version\n",
    "\n",
    "Now as we have seen how a standard local aggregation works, we will move on to the most important part of this notebook: DeLA. As mentioned, the downside is the requirement of feeding the relative distances in each layer. DeLA proposes a different way of local aggregation."
   ]
  },
  {
   "cell_type": "code",
   "execution_count": 60,
   "id": "64292434-96c4-4436-b71a-74703c675cca",
   "metadata": {},
   "outputs": [
    {
     "data": {
      "text/plain": [
       "tensor([[ 0.0128,  0.3830,  0.3114, -0.3036,  0.6462,  0.7941],\n",
       "        [ 0.0431,  0.1736,  0.2236, -0.3268,  0.4065,  0.6131],\n",
       "        [-0.1999,  0.1210,  0.0849, -0.6127,  0.5760,  0.5933],\n",
       "        [-0.2922,  0.0588,  0.0111, -0.7043,  0.3627,  0.5389]],\n",
       "       grad_fn=<MaxBackward0>)"
      ]
     },
     "execution_count": 60,
     "metadata": {},
     "output_type": "execute_result"
    }
   ],
   "source": [
    "class DecoupledLocalAggrLayer(nn.Module):\n",
    "    \"\"\"\n",
    "    Decoupled local aggregation layer\n",
    "    \"\"\"\n",
    "    def __init__(self, in_channels, out_channels):\n",
    "        super().__init__()\n",
    "        self.in_channels = in_channels\n",
    "        self.out_channels = out_channels\n",
    "\n",
    "        # Feature aggregation MLP\n",
    "        self.mlp = nn.Sequential(\n",
    "            nn.Linear(in_channels*2, out_channels),\n",
    "            nn.ReLU(),\n",
    "            nn.Linear(out_channels, out_channels)\n",
    "        )\n",
    "\n",
    "        self.cor_head_hidden_dim = 16\n",
    "\n",
    "        # Prediction MLP for predicting relative coordinates\n",
    "        self.pred_mlp = nn.Sequential(\n",
    "            nn.Linear(out_channels, self.cor_head_hidden_dim),\n",
    "            nn.ReLU(),\n",
    "            nn.Linear(self.cor_head_hidden_dim, 2)\n",
    "        )\n",
    "        \n",
    "\n",
    "    def forward(self, xyz, knn, rel_dist):\n",
    "        \"\"\"\n",
    "        xyz: [N, in_channels] point cloud\n",
    "        knn: [N, k] precomputed neighbors indices\n",
    "        rel_dist: [N, k, 2] relative distances\n",
    "        \"\"\"\n",
    "\n",
    "        # A tensor where each point N has the features of its k neighbors\n",
    "        neighbor_feat = xyz[knn] # [N, k, in_channels]\n",
    "\n",
    "        # A tensor with features of each point\n",
    "        center_feat = xyz.unsqueeze(1).expand_as(neighbor_feat) # [N, k, in_channels]\n",
    "\n",
    "        # Now we make up the final feature for each neighbor for message passing: [center_features, neighbor_features]\n",
    "        message_feat = torch.concat([center_feat, neighbor_feat], dim=2) # [N, k, in_channel*2]\n",
    "\n",
    "        result = self.mlp(message_feat) # [N, k, out_channels]\n",
    "        \n",
    "        # Regularization\n",
    "        if self.training:\n",
    "            pred_rel = self.pred_mlp(result) # Outputs the predicted relative distance between each center node and neighbor: [N, k, 2] \n",
    "            reg_loss = nn.functional.mse_loss(pred_rel, rel_dist) # Compare the prediction with ground truth\n",
    "        else:\n",
    "            reg_loss = 0\n",
    "        \n",
    "        # Now we aggregate using max (basically a MaxPool)\n",
    "        values, indices = torch.max(result, dim=1)\n",
    "\n",
    "        return values, reg_loss\n",
    "\n",
    "\n",
    "# Sanity check\n",
    "x = LocalAggrLayer(2, 6) # A layer with 2D input and output 6D feature vector\n",
    "test_pc = torch.tensor([[0., 0.],[0., 1.],[0., 2.],[0., 3.]]) # Our test point cloud\n",
    "indices = knn_indices(test_pc, 2) # Calculate the indices of 2 neighbors\n",
    "relative_distances = test_pc[indices] - test_pc.unsqueeze(1) # The relative distances of each neighbor\n",
    "x(torch.tensor([[0., 0.],[0., 1.],[0., 2.],[0., 3.]]), indices, relative_distances)"
   ]
  },
  {
   "cell_type": "markdown",
   "id": "3ea70910-2719-499f-b9e7-25225d7b4cd7",
   "metadata": {},
   "source": [
    "Our complete network to predict the 2D MNIST point clouds is given below and looks identical to the one before. The only difference is that each layer returns the regularization loss of the prediction of relative distances. This distance must be returned by the network to perform backprop. *Note: Because we have a simple 3 layer network, I hardcoded the total regularization loss as the sum of the three, one could simply add the losses dynamically to use more layers.*"
   ]
  },
  {
   "cell_type": "code",
   "execution_count": 62,
   "id": "d42fc1f8-3ec1-4b8b-83fb-9ec99a47f9bf",
   "metadata": {},
   "outputs": [],
   "source": [
    "class DeLAGNN(nn.Module):\n",
    "    def __init__(self, in_channels, hidden_channels, out_channels):\n",
    "        super().__init__()\n",
    "        self.layer1 = DecoupledLocalAggrLayer(in_channels, hidden_channels)\n",
    "        self.layer2 = DecoupledLocalAggrLayer(hidden_channels, hidden_channels)\n",
    "        self.layer3 = DecoupledLocalAggrLayer(hidden_channels, out_channels)\n",
    "        self.fc = nn.Linear(out_channels, classes)\n",
    "\n",
    "    \n",
    "    def forward(self, xyz, knn, rel_dist):\n",
    "        x, reg_loss1 = self.layer1(xyz, knn, rel_dist)\n",
    "        x, reg_loss2 = self.layer2(x, knn, rel_dist)\n",
    "        x, reg_loss3 = self.layer3(x, knn, rel_dist)\n",
    "        \n",
    "        # Apply global max pooling\n",
    "        x, _ = torch.max(x, dim=0)\n",
    "\n",
    "        # Final classification head\n",
    "        x = self.fc(x)\n",
    "\n",
    "        total_reg_loss = reg_loss1 + reg_loss2 + reg_loss3\n",
    "\n",
    "        return x, total_reg_loss"
   ]
  },
  {
   "cell_type": "markdown",
   "id": "0a07de22-8c1b-43ab-b7b7-9f00fd6387cc",
   "metadata": {},
   "source": [
    "Finally, we train the DeLA version of our model using the same hyperparameters as before, so make sure you have ran the cell with the hyperparameters."
   ]
  },
  {
   "cell_type": "code",
   "execution_count": 67,
   "id": "c7b4c036-3bb8-421b-998d-cc4147ca3ca7",
   "metadata": {},
   "outputs": [
    {
     "name": "stdout",
     "output_type": "stream",
     "text": [
      "Epoch [1] 3200/60000, Accuracy: 0.20\n",
      "Epoch [1] 6400/60000, Accuracy: 0.33\n",
      "Epoch [1] 9600/60000, Accuracy: 0.40\n",
      "Epoch [1] 12800/60000, Accuracy: 0.44\n",
      "Epoch [1] 16000/60000, Accuracy: 0.47\n",
      "Epoch [1] 19200/60000, Accuracy: 0.50\n",
      "Epoch [1] 22400/60000, Accuracy: 0.53\n",
      "Epoch [1] 25600/60000, Accuracy: 0.55\n",
      "Epoch [1] 28800/60000, Accuracy: 0.57\n",
      "Epoch [1] 32000/60000, Accuracy: 0.60\n",
      "Epoch [1] 35200/60000, Accuracy: 0.61\n",
      "Epoch [1] 38400/60000, Accuracy: 0.63\n",
      "Epoch [1] 41600/60000, Accuracy: 0.65\n",
      "Epoch [1] 44800/60000, Accuracy: 0.66\n",
      "Epoch [1] 48000/60000, Accuracy: 0.67\n",
      "Epoch [1] 51200/60000, Accuracy: 0.68\n",
      "Epoch [1] 54400/60000, Accuracy: 0.70\n",
      "Epoch [1] 57600/60000, Accuracy: 0.71\n",
      "Epoch [1/1], Loss: 0.8812, Accuracy: 0.71\n"
     ]
    }
   ],
   "source": [
    "dela_model = DeLAGNN(in_channels, hidden_channels, out_channels).to(device)\n",
    "optimizer = optim.Adam(dela_model.parameters(), lr=learning_rate)\n",
    "criterion = nn.CrossEntropyLoss()\n",
    "\n",
    "# Train the model\n",
    "for epoch in range(epochs):\n",
    "    dela_model.train()\n",
    "    running_loss = 0.0\n",
    "    correct = 0\n",
    "    total = 0\n",
    "    \n",
    "    for points, labels in train_loader:\n",
    "        batch_loss = 0.0\n",
    "        correct_in_batch = 0\n",
    "\n",
    "        # Iterate over each point cloud in the batch\n",
    "        for i in range(len(points)):\n",
    "            point_cloud = points[i].to(device)\n",
    "            label = labels[i].to(device)\n",
    "\n",
    "            knn = knn_indices(point_cloud, k_neighbors)\n",
    "\n",
    "            rel_dist = point_cloud[knn] - point_cloud.unsqueeze(1)\n",
    "\n",
    "            # Forward pass\n",
    "            outputs, reg_loss = dela_model(point_cloud, knn, rel_dist)     \n",
    "            \n",
    "            # Compute loss\n",
    "            loss = criterion(outputs.unsqueeze(0), label.long())\n",
    "            batch_loss += loss + reg_loss\n",
    "            \n",
    "            _, predicted = torch.max(outputs, dim=0)\n",
    "            if predicted == label:\n",
    "                correct_in_batch += 1\n",
    "\n",
    "        # Track statistics\n",
    "        running_loss += batch_loss\n",
    "        correct += correct_in_batch\n",
    "        total += len(points)\n",
    "\n",
    "        optimizer.zero_grad()\n",
    "        batch_loss.backward()\n",
    "        optimizer.step()\n",
    "\n",
    "        # Print intermediary results each 3200 instances\n",
    "        if total % 3200 == 0:   \n",
    "            print(f\"Epoch [{epoch+1}] {total}/60000, Accuracy: {correct/total:.2f}\")\n",
    "\n",
    "    # Print statistics after each epoch\n",
    "    print(f\"Epoch [{epoch+1}/{epochs}], Loss: {running_loss/len(train_loader):.4f}, Accuracy: {correct/total:.2f}\")"
   ]
  },
  {
   "cell_type": "code",
   "execution_count": 70,
   "id": "43c676ae-bf2a-4721-bb59-c6e768016ad8",
   "metadata": {},
   "outputs": [
    {
     "name": "stdout",
     "output_type": "stream",
     "text": [
      "Test accuracy on normal model: 88.45%\n",
      "Test accuracy on DeLA model: 88.58%\n"
     ]
    }
   ],
   "source": [
    "def testNormalGNN():\n",
    "    \"\"\"\n",
    "    Validate the accuracy of the normal model on the testset\n",
    "    \"\"\"\n",
    "    k_neighbors = 5\n",
    "    normal_model.eval()\n",
    "    correct = 0\n",
    "    total = 0\n",
    "    \n",
    "    with torch.no_grad():\n",
    "        for points, labels in test_loader:\n",
    "            for i in range(len(points)):\n",
    "                point_cloud = points[i].to(device) # [N, 2]\n",
    "                label = labels[i].to(device)\n",
    "    \n",
    "                knn = knn_indices(point_cloud, k_neighbors) # [N, k]\n",
    "                rel_dist = point_cloud[knn] - point_cloud.unsqueeze(1) # [N, k, 2]\n",
    "    \n",
    "                outputs = normal_model(point_cloud, knn, rel_dist)\n",
    "    \n",
    "                _, predicted = torch.max(outputs, dim=0)\n",
    "                if predicted == label:\n",
    "                    correct += 1\n",
    "                total += 1\n",
    "    \n",
    "    print(f'Test accuracy on normal model: {100 * correct / total:.2f}%')\n",
    "\n",
    "    \n",
    "def testDeLAGNN():\n",
    "    \"\"\"\n",
    "    Validate the accuracy of the DeLA model on the testset\n",
    "    \"\"\"\n",
    "    k_neighbors = 5\n",
    "    dela_model.eval()\n",
    "    correct = 0\n",
    "    total = 0\n",
    "    \n",
    "    with torch.no_grad():\n",
    "        for points, labels in test_loader:\n",
    "            for i in range(len(points)):\n",
    "                point_cloud = points[i].to(device) # [N, 2]\n",
    "                label = labels[i].to(device)\n",
    "    \n",
    "                knn = knn_indices(point_cloud, k_neighbors) # [N, k]\n",
    "                rel_dist = point_cloud[knn] - point_cloud.unsqueeze(1) # [N, k, 2]\n",
    "    \n",
    "                outputs, _ = dela_model(point_cloud, knn, rel_dist)\n",
    "    \n",
    "                _, predicted = torch.max(outputs, dim=0)\n",
    "                if predicted == label:\n",
    "                    correct += 1\n",
    "                total += 1\n",
    "    \n",
    "    print(f'Test accuracy on DeLA model: {100 * correct / total:.2f}%')\n",
    "\n",
    "testNormalGNN()\n",
    "testDeLAGNN()"
   ]
  },
  {
   "cell_type": "code",
   "execution_count": null,
   "id": "5e644953-ed8b-42a2-aab1-544ff2e3f691",
   "metadata": {},
   "outputs": [],
   "source": []
  },
  {
   "cell_type": "markdown",
   "id": "9c716ab9-0366-4667-9963-61975071b694",
   "metadata": {},
   "source": [
    "---\n",
    "## Visualizing the predictive performance of DeLA\n",
    "In the cell below, we can predict visualize the relative distance predictions of the prediction MLP inside each layer. As can be seen, the predictions are quite reasonable, even in deeper layers.\n",
    "\n",
    "You can use the provided slider to select a particular point in the point cloud. If you want to test it on a new random 2D MNIST point cloud, just rerun the cell."
   ]
  },
  {
   "cell_type": "code",
   "execution_count": 117,
   "id": "80fcd567-994e-4fe5-a703-30b671d6ec18",
   "metadata": {},
   "outputs": [
    {
     "data": {
      "application/vnd.jupyter.widget-view+json": {
       "model_id": "b9ceab1ae03840d19d36d17953004d5b",
       "version_major": 2,
       "version_minor": 0
      },
      "text/plain": [
       "interactive(children=(IntSlider(value=0, description='i', max=158), Output()), _dom_classes=('widget-interact'…"
      ]
     },
     "metadata": {},
     "output_type": "display_data"
    }
   ],
   "source": [
    "dela_model.eval()\n",
    "\n",
    "coords, labels = next(iter(test_loader))\n",
    "pc = coords[0].to(device) # [N, 2]\n",
    "label = labels[0].item()\n",
    "\n",
    "\n",
    "k = 5\n",
    "knn = knn_indices(pc, k)\n",
    "\n",
    "\n",
    "neighbor_feat = pc[knn] # [N, k, 2]\n",
    "center_feat = pc.unsqueeze(1).expand_as(neighbor_feat) # [N, k, 2]\n",
    "center_coords = center_feat\n",
    "message_feat = torch.cat([center_feat, neighbor_feat], dim=2) # [N, k, 4]\n",
    "\n",
    "pred_feat = dela_model.layer1.mlp(message_feat) # [N, k, hidden_channels=16]\n",
    "pred_rel = dela_model.layer1.pred_mlp(pred_feat) # [N, k, 2]\n",
    "pred_coords = center_coords + pred_rel # [N, k, 2]\n",
    "\n",
    "pc_np = pc.cpu().numpy()\n",
    "pred_coords_np = pred_coords.cpu().detach().numpy()\n",
    "knn_np = knn.cpu().numpy()\n",
    "\n",
    "\n",
    "def show_pred(i):\n",
    "    plt.figure(figsize=(10, 9))\n",
    "    plt.scatter(pc_np[:, 0], pc_np[:, 1], c='lightgray', label='Point cloud')\n",
    "    plt.scatter(pc_np[i, 0], pc_np[i, 1], c='red', label='Center point', s=60)\n",
    "    \n",
    "    colors = cm.tab10(np.linspace(0, 1, k))[:, :3]\n",
    "    darker_colors = colors * 0.2\n",
    "    \n",
    "    for j in range(k):\n",
    "        neighbor_idx = knn_np[i, j]\n",
    "        true_neighbor = pc_np[neighbor_idx]\n",
    "        predicted_neighbor = pred_coords_np[i, j]\n",
    "    \n",
    "        plt.scatter(true_neighbor[0], true_neighbor[1], color=colors[j], label=f'True neighbor {j+1}', s=30)\n",
    "        plt.scatter(predicted_neighbor[0], predicted_neighbor[1], color=darker_colors[j], marker='x', s=30, label=f'Predicted neighbor {j+1}')\n",
    "\n",
    "        # Plot lines\n",
    "        plt.plot([pc_np[i, 0], true_neighbor[0]], [pc_np[i, 1], true_neighbor[1]], color=colors[j], linestyle='--', linewidth=1)\n",
    "        plt.plot([pc_np[i, 0], predicted_neighbor[0]], [pc_np[i, 1], predicted_neighbor[1]], color=darker_colors[j], linestyle='-', linewidth=1)\n",
    "\n",
    "    plt.title(f\"Predicted neighbor positions, label: {int(label)}\")\n",
    "    plt.legend(\n",
    "        loc='upper center',\n",
    "        bbox_to_anchor=(0.5, -0.1),\n",
    "        ncol=3,\n",
    "    )\n",
    "    plt.subplots_adjust(bottom=0.25)\n",
    "    plt.grid(True)\n",
    "    plt.axis('equal')\n",
    "    plt.show()\n",
    "\n",
    "interact(show_pred, i=IntSlider(min=0, max=pc.shape[0]-1, step=1, value=0));"
   ]
  },
  {
   "cell_type": "code",
   "execution_count": 4,
   "id": "af8feacf-3f16-4732-a382-22653e9af58c",
   "metadata": {},
   "outputs": [
    {
     "ename": "ImportError",
     "evalue": "Please install anywidget to use the FigureWidget class",
     "output_type": "error",
     "traceback": [
      "\u001b[0;31m---------------------------------------------------------------------------\u001b[0m",
      "\u001b[0;31mImportError\u001b[0m                               Traceback (most recent call last)",
      "Cell \u001b[0;32mIn[4], line 11\u001b[0m\n\u001b[1;32m      8\u001b[0m initial_colors \u001b[38;5;241m=\u001b[39m [\u001b[38;5;124m'\u001b[39m\u001b[38;5;124mblue\u001b[39m\u001b[38;5;124m'\u001b[39m] \u001b[38;5;241m*\u001b[39m \u001b[38;5;28mlen\u001b[39m(x)\n\u001b[1;32m     10\u001b[0m \u001b[38;5;66;03m# Create a FigureWidget scatter\u001b[39;00m\n\u001b[0;32m---> 11\u001b[0m fig \u001b[38;5;241m=\u001b[39m go\u001b[38;5;241m.\u001b[39mFigureWidget(\n\u001b[1;32m     12\u001b[0m     data\u001b[38;5;241m=\u001b[39m[go\u001b[38;5;241m.\u001b[39mScatter(\n\u001b[1;32m     13\u001b[0m         x\u001b[38;5;241m=\u001b[39mx, \n\u001b[1;32m     14\u001b[0m         y\u001b[38;5;241m=\u001b[39my, \n\u001b[1;32m     15\u001b[0m         mode\u001b[38;5;241m=\u001b[39m\u001b[38;5;124m'\u001b[39m\u001b[38;5;124mmarkers\u001b[39m\u001b[38;5;124m'\u001b[39m,\n\u001b[1;32m     16\u001b[0m         marker\u001b[38;5;241m=\u001b[39m\u001b[38;5;28mdict\u001b[39m(color\u001b[38;5;241m=\u001b[39minitial_colors, size\u001b[38;5;241m=\u001b[39m\u001b[38;5;241m10\u001b[39m)\n\u001b[1;32m     17\u001b[0m     )],\n\u001b[1;32m     18\u001b[0m     layout\u001b[38;5;241m=\u001b[39mgo\u001b[38;5;241m.\u001b[39mLayout(\n\u001b[1;32m     19\u001b[0m         title\u001b[38;5;241m=\u001b[39m\u001b[38;5;124m\"\u001b[39m\u001b[38;5;124mClick a point to toggle its color\u001b[39m\u001b[38;5;124m\"\u001b[39m,\n\u001b[1;32m     20\u001b[0m         dragmode\u001b[38;5;241m=\u001b[39m\u001b[38;5;124m'\u001b[39m\u001b[38;5;124mpan\u001b[39m\u001b[38;5;124m'\u001b[39m\n\u001b[1;32m     21\u001b[0m     )\n\u001b[1;32m     22\u001b[0m )\n\u001b[1;32m     24\u001b[0m scatter \u001b[38;5;241m=\u001b[39m fig\u001b[38;5;241m.\u001b[39mdata[\u001b[38;5;241m0\u001b[39m]\n\u001b[1;32m     26\u001b[0m \u001b[38;5;66;03m# Define the click callback\u001b[39;00m\n",
      "File \u001b[0;32m/opt/anaconda3/envs/Seminar/lib/python3.11/site-packages/plotly/missing_anywidget.py:13\u001b[0m, in \u001b[0;36mFigureWidget.__init__\u001b[0;34m(self, *args, **kwargs)\u001b[0m\n\u001b[1;32m     12\u001b[0m \u001b[38;5;28;01mdef\u001b[39;00m\u001b[38;5;250m \u001b[39m\u001b[38;5;21m__init__\u001b[39m(\u001b[38;5;28mself\u001b[39m, \u001b[38;5;241m*\u001b[39margs, \u001b[38;5;241m*\u001b[39m\u001b[38;5;241m*\u001b[39mkwargs):\n\u001b[0;32m---> 13\u001b[0m     \u001b[38;5;28;01mraise\u001b[39;00m \u001b[38;5;167;01mImportError\u001b[39;00m(\u001b[38;5;124m\"\u001b[39m\u001b[38;5;124mPlease install anywidget to use the FigureWidget class\u001b[39m\u001b[38;5;124m\"\u001b[39m)\n",
      "\u001b[0;31mImportError\u001b[0m: Please install anywidget to use the FigureWidget class"
     ]
    }
   ],
   "source": [
    "import plotly.graph_objects as go\n",
    "import numpy as np\n",
    "\n",
    "# Generate some random data\n",
    "np.random.seed(42)\n",
    "x = np.random.randn(30)\n",
    "y = np.random.randn(30)\n",
    "initial_colors = ['blue'] * len(x)\n",
    "\n",
    "# Create a FigureWidget scatter\n",
    "fig = go.FigureWidget(\n",
    "    data=[go.Scatter(\n",
    "        x=x, \n",
    "        y=y, \n",
    "        mode='markers',\n",
    "        marker=dict(color=initial_colors, size=10)\n",
    "    )],\n",
    "    layout=go.Layout(\n",
    "        title=\"Click a point to toggle its color\",\n",
    "        dragmode='pan'\n",
    "    )\n",
    ")\n",
    "\n",
    "scatter = fig.data[0]\n",
    "\n",
    "# Define the click callback\n",
    "def on_point_click(trace, points, state):\n",
    "    # Copy the current colors\n",
    "    colors = list(trace.marker.color)\n",
    "    # Toggle each clicked point\n",
    "    for i in points.point_inds:\n",
    "        colors[i] = 'red' if colors[i] == 'blue' else 'blue'\n",
    "    # Update the trace\n",
    "    trace.marker.color = colors\n",
    "\n",
    "# Bind the callback\n",
    "scatter.on_click(on_point_click)\n",
    "\n",
    "# Display\n",
    "fig\n"
   ]
  }
 ],
 "metadata": {
  "kernelspec": {
   "display_name": "Python 3 (ipykernel)",
   "language": "python",
   "name": "python3"
  },
  "language_info": {
   "codemirror_mode": {
    "name": "ipython",
    "version": 3
   },
   "file_extension": ".py",
   "mimetype": "text/x-python",
   "name": "python",
   "nbconvert_exporter": "python",
   "pygments_lexer": "ipython3",
   "version": "3.11.13"
  }
 },
 "nbformat": 4,
 "nbformat_minor": 5
}
