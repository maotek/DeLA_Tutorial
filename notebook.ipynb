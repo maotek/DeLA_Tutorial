{
 "cells": [
  {
   "cell_type": "markdown",
   "id": "b6af31c2-637a-4c84-bcb0-9786b66e808f",
   "metadata": {},
   "source": [
    "# DeLA Interactive Notebook\n",
    "\n",
    "Created by: Maosheng Jiang\n",
    "\n",
    "This notebook is a supplementary educational tool to illustrate how the spatial-regularizer works in the paper: [Decoupled Local Aggregation for Point Cloud Learning](https://arxiv.org/abs/2308.16532)."
   ]
  },
  {
   "cell_type": "markdown",
   "id": "a616b777-e232-4b64-ba8c-af5aadfc1369",
   "metadata": {},
   "source": [
    "## Preliminaries \n",
    "\n",
    "Traditional local aggregators (e.g. DGCNN, PointNet++) will, at each aggregation layer, recalculate the neighbors in the feature space or in the coordinate space. If a lot of aggregation layers are stacked, then this will become computationally expensive. Decoupled Local Aggregation (DeLA) proposes Decoupled Local Aggregation: we compute and encode the neighbourhood of points beforehand and avoid recomputing this in each successive layer.\n",
    "\n",
    "![Traditional Aggregation vs Decoupled Local Aggregation](local_aggregation.png)\n",
    "\n",
    "In the image above, we can see that in the case of DeLA, we only compute the neighborhood once (which then gets encoded within the point features), and the subsequent layer do not have to recompute the neighborhood again.\n",
    "\n",
    "The downside of this, is that the encoding of the relative distance may degrade deeper into the layers. For that, we employ a spatial regularization term, which essentially trains a small MLP in parallel to keep the encoded relative distance intact within an aggregation layer. This is exactly the technique that we are going to explore in this notebook. For more information about DeLA, please refer to the original paper."
   ]
  },
  {
   "cell_type": "markdown",
   "id": "9714d7ea-2ac7-4643-97f9-c9f47a0ec972",
   "metadata": {},
   "source": [
    "First, let's import the required libraries:"
   ]
  },
  {
   "cell_type": "code",
   "execution_count": 135,
   "id": "baef8cdb-dc36-4771-86c1-d5fb27d17c75",
   "metadata": {},
   "outputs": [],
   "source": [
    "import numpy as np\n",
    "import pandas as pd\n",
    "from pathlib import Path\n",
    "import torch\n",
    "import torch.nn as nn\n",
    "from torch.utils.data import Dataset, DataLoader\n",
    "import matplotlib.pyplot as plt\n",
    "import torch.optim as optim\n",
    "import matplotlib.cm as cm\n",
    "from ipywidgets import interact, IntSlider, Layout\n",
    "import time"
   ]
  },
  {
   "cell_type": "markdown",
   "id": "9d32c4f7-1f3b-4f39-a1c3-0e9e2b5209e6",
   "metadata": {},
   "source": [
    "----\n",
    "## Walkthrough example\n",
    "\n",
    "To illustrate the regularization term, we will train a simple point cloud network to classify 2D point clouds of handwritten digits (MNIST). This dataset contains 60000 2D point clouds , each consisting of a maximum of 351 2D points with a corresponding value which specifies how large a point is. The test set contains 10000 2D point clouds. For more information, refer to the kaggle source: https://www.kaggle.com/datasets/cristiangarcia/pointcloudmnist2d/data"
   ]
  },
  {
   "cell_type": "markdown",
   "id": "c3c5ff68-b27a-4bc2-baf4-8e6e6a9c5627",
   "metadata": {},
   "source": [
    "Now, let's get familiar with the dataset and load it:"
   ]
  },
  {
   "cell_type": "code",
   "execution_count": 2,
   "id": "618f3d69-2b96-4c23-a0f7-7ff65e5da444",
   "metadata": {},
   "outputs": [],
   "source": [
    "TRAIN_PATH = Path(\"archive/train.csv\")\n",
    "TEST_PATH = Path(\"archive/test.csv\")\n",
    "\n",
    "\n",
    "def read_data(path):\n",
    "    return pd.read_csv(path)\n",
    "\n",
    "\n",
    "def preprocess_data(df):\n",
    "    X = df[df.columns[1:]].to_numpy()\n",
    "    y = df[df.columns[0]].to_numpy()\n",
    "\n",
    "    X = X.reshape((X.shape[0], 351, 3))\n",
    "    X = X[:, :, :-1] # Drop the value column (not needed)\n",
    "    y = y.reshape(y.shape[0], 1)\n",
    "\n",
    "    # X: [60000, 351, 3], y: [60000, 1]\n",
    "    return torch.tensor(X, dtype=torch.float32), torch.tensor(y, dtype=torch.float32)\n",
    "\n",
    "X_train, y_train = preprocess_data(read_data(TRAIN_PATH))\n",
    "X_test, y_test = preprocess_data(read_data(TEST_PATH))"
   ]
  },
  {
   "cell_type": "markdown",
   "id": "b63068c0-f97e-474c-a591-782e92368ede",
   "metadata": {},
   "source": [
    "All point clouds have a fixed number of points (351). This is because it is the maximum number of points found in a single point cloud of the dataset. If a point cloud has less than 351 points, then the rest of the points are masked out as -1. So we need to account for this."
   ]
  },
  {
   "cell_type": "markdown",
   "id": "a3740428-bd24-44cf-ad40-14bafe25c261",
   "metadata": {},
   "source": [
    "Let's visualize a point cloud!"
   ]
  },
  {
   "cell_type": "code",
   "execution_count": 3,
   "id": "2f9d1a20-8b08-40e8-9e39-d32c385103ab",
   "metadata": {},
   "outputs": [
    {
     "data": {
      "image/png": "[encoded data removed]",
      "text/plain": [
       "<Figure size 500x500 with 1 Axes>"
      ]
     },
     "metadata": {},
     "output_type": "display_data"
    }
   ],
   "source": [
    "idx = np.random.randint(X_train.shape[0])\n",
    "\n",
    "pc = X_train[idx]\n",
    "\n",
    "# Keep only the real points (where x != -1 and y != -1)\n",
    "pc = pc[(pc[:, 0] != -1) & (pc[:, 1] != -1)]\n",
    "label = y_train[idx].item()\n",
    "\n",
    "plt.figure(figsize=(5,5))\n",
    "plt.scatter(pc[:, 0], pc[:, 1])\n",
    "plt.title(f\"Example MNIST point cloud of digit {int(label)}\")\n",
    "plt.xlabel(\"x\")\n",
    "plt.ylabel(\"y\")\n",
    "plt.show()"
   ]
  },
  {
   "cell_type": "markdown",
   "id": "6d21c453-608f-4928-affa-77c3d7a1757f",
   "metadata": {},
   "source": [
    "Now we have the MNIST 2D point clouds, let's make the data loader for the train and test dataset."
   ]
  },
  {
   "cell_type": "code",
   "execution_count": 4,
   "id": "3957d0e2-d1c1-4285-ad17-588d6864d5c0",
   "metadata": {},
   "outputs": [],
   "source": [
    "class PointCloudDataset(Dataset):\n",
    "    def __init__(self, X, y):\n",
    "        \"\"\"\n",
    "        X: [num_samples, 351, 2] \n",
    "        y: [num_samples, 1]\n",
    "        \"\"\"\n",
    "        self.X = X\n",
    "        self.y = y\n",
    "\n",
    "    def __len__(self):\n",
    "        return len(self.X)\n",
    "\n",
    "    def __getitem__(self, item):\n",
    "        pc = self.X[item]\n",
    "        label = self.y[item]\n",
    "\n",
    "        # Keep only the real points (where x != -1 and y != -1)\n",
    "        pc = pc[(pc[:, 0] != -1) & (pc[:, 1] != -1)]\n",
    "\n",
    "        return pc, label\n",
    "\n",
    "\n",
    "# Since the point clouds have variable amount of points, we cannot use default batching.\n",
    "# We need to implement a custom collate_fn which will be passed into the dataloader\n",
    "# to create a custom batch, which is a list of variable point clouds\n",
    "def collate_fn(batch):\n",
    "    coords_list = [item[0] for item in batch]\n",
    "    labels      = [item[1] for item in batch]\n",
    "    return coords_list, labels"
   ]
  },
  {
   "cell_type": "code",
   "execution_count": 124,
   "id": "f1c00ffa-c529-43bd-b927-dcc112ee5783",
   "metadata": {},
   "outputs": [],
   "source": [
    "train_ds = PointCloudDataset(X_train, y_train)\n",
    "test_ds = PointCloudDataset(X_test, y_test)\n",
    "\n",
    "train_loader = DataLoader(train_ds, batch_size=1, collate_fn=collate_fn, shuffle=True)\n",
    "test_loader = DataLoader(test_ds, batch_size=1, collate_fn=collate_fn, shuffle=True)"
   ]
  },
  {
   "cell_type": "markdown",
   "id": "72426f70-48b3-4d55-8cc5-90499e61239f",
   "metadata": {},
   "source": [
    "---\n",
    "## Model\n",
    "\n",
    "Now we have the dataloaders ready, it is time to define a basic 2D point cloud classification model with 3 local aggregation layers with global max pooling."
   ]
  },
  {
   "cell_type": "markdown",
   "id": "31fa0bc8-4812-4d51-b05c-993fe93f3ac9",
   "metadata": {},
   "source": [
    "First we precompute the relative distances of the k neighbors of each point. We are using a basic method that first computes for each point the euclidean distance to all other points. In the original DeLA implementation, the authors used an knn algorithm with KD-Trees which is more efficient."
   ]
  },
  {
   "cell_type": "code",
   "execution_count": 6,
   "id": "8cc6e484-b053-4252-99a8-7acc17aa0905",
   "metadata": {},
   "outputs": [
    {
     "name": "stdout",
     "output_type": "stream",
     "text": [
      "tensor([[1, 2],\n",
      "        [0, 2],\n",
      "        [1, 3],\n",
      "        [2, 1]])\n",
      "tensor([[[ 0.,  1.],\n",
      "         [ 0.,  2.]],\n",
      "\n",
      "        [[ 0., -1.],\n",
      "         [ 0.,  1.]],\n",
      "\n",
      "        [[ 0., -1.],\n",
      "         [ 0.,  1.]],\n",
      "\n",
      "        [[ 0., -1.],\n",
      "         [ 0., -2.]]])\n"
     ]
    }
   ],
   "source": [
    "def knn_indices(pc, k):\n",
    "    \"\"\"\n",
    "    pc: [N,2] point cloud\n",
    "    returns indices: [N,k] tensor of neighbor indices for each point\n",
    "    \"\"\"\n",
    "    dist = torch.cdist(pc, pc, p=2)\n",
    "    values, indices = torch.topk(dist, k+1, largest=False, dim=-1)\n",
    "\n",
    "    # Remove the index of its own point\n",
    "    return indices[:, 1:]\n",
    "\n",
    "\n",
    "# Sanity check\n",
    "test_pc = torch.tensor([[0., 0.],[0., 1.],[0., 2.],[0., 3.]]) # [N, 2] out test point cloud\n",
    "indices = knn_indices(test_pc, 2) # [N, k] indices of of the neighbors\n",
    "print(indices)\n",
    "rel_dist = test_pc[indices] - test_pc.unsqueeze(1) # [N, k, 2] relative distances for each neighbor\n",
    "print(rel_dist)"
   ]
  },
  {
   "cell_type": "markdown",
   "id": "f3c87993-5744-4a90-84b5-4cd9a3aeff45",
   "metadata": {},
   "source": [
    "---\n",
    "## Defining a standard local aggregation layer\n",
    "\n",
    "Now, we will define a standard local aggregation layer."
   ]
  },
  {
   "cell_type": "code",
   "execution_count": 7,
   "id": "2ff0025d-2fa3-4e41-a78e-cb5faed41c81",
   "metadata": {},
   "outputs": [
    {
     "data": {
      "text/plain": [
       "tensor([[-0.2320,  0.4399,  0.1513,  0.0662,  0.5017, -0.3377],\n",
       "        [-0.3294,  0.6395,  0.3276,  0.1357,  0.3239, -0.2265],\n",
       "        [-0.3790,  0.6042,  0.3194,  0.1793,  0.2573, -0.2049],\n",
       "        [-1.0266,  0.7352,  0.5473,  0.1498,  0.0436, -0.0539]],\n",
       "       grad_fn=<MaxBackward0>)"
      ]
     },
     "execution_count": 7,
     "metadata": {},
     "output_type": "execute_result"
    }
   ],
   "source": [
    "class LocalAggrLayer(nn.Module):\n",
    "    \"\"\"\n",
    "    Standard local aggregation layer\n",
    "    \"\"\"\n",
    "    def __init__(self, in_channels, out_channels):\n",
    "        super().__init__()\n",
    "        self.in_channels = in_channels\n",
    "        self.out_channels = out_channels\n",
    "\n",
    "        self.mlp = nn.Sequential(\n",
    "            nn.Linear(in_channels*2 + 2, out_channels),\n",
    "            nn.ReLU(),\n",
    "            nn.Linear(out_channels, out_channels)\n",
    "        )\n",
    "        \n",
    "\n",
    "    def forward(self, pc, knn, rel_dist):\n",
    "        \"\"\"\n",
    "        pc: [N, in_channels] point cloud\n",
    "        knn: [N, k] precomputed neighbors indices\n",
    "        rel_dist: [N, k, 2] relative distances\n",
    "        \"\"\"\n",
    "\n",
    "        # A tensor where each point N has the features of its k neighbors\n",
    "        neighbor_feat = pc[knn] # [N, k, in_channels]\n",
    "\n",
    "        # A tensor with features of each point\n",
    "        center_feat = pc.unsqueeze(1).expand_as(neighbor_feat) # [N, k, in_channels]\n",
    "\n",
    "        # A tensor with relative distances of each neighbor to a point\n",
    "        rel_dist = rel_dist # [N, k, 2]\n",
    "\n",
    "        # Now we make up the final feature for each neighbor for message passing: [center_features, neighbor_features, relative_distance]\n",
    "        message_feat = torch.concat([center_feat, neighbor_feat, rel_dist], dim=2) # [N, k, in_channel*2 + 2]\n",
    "\n",
    "        result = self.mlp(message_feat) # [N, k, out_channels]\n",
    "\n",
    "        # Now we aggregate using max (basically a MaxPool)\n",
    "        values, indices = torch.max(result, dim=1)\n",
    "\n",
    "        return values\n",
    "\n",
    "\n",
    "# Sanity check\n",
    "x = LocalAggrLayer(2, 6) # A layer with 2D input and output 6D feature vector\n",
    "test_pc = torch.tensor([[0., 0.],[0., 1.],[0., 2.],[0., 3.]]) # Our test point cloud\n",
    "indices = knn_indices(test_pc, 2) # Calculate the indices of 2 neighbors\n",
    "relative_distances = test_pc[indices] - test_pc.unsqueeze(1) # The relative distances of each neighbor\n",
    "x(torch.tensor([[0., 0.],[0., 1.],[0., 2.],[0., 3.]]), indices, relative_distances)"
   ]
  },
  {
   "cell_type": "markdown",
   "id": "d17c9fb2-27a5-46cb-a3c0-937620b85ee1",
   "metadata": {},
   "source": [
    "---\n",
    "## Model Training\n",
    "\n",
    "Now that we have defined a normal aggregation layer, let's start training it on our training set. First we will define the hyperparameters."
   ]
  },
  {
   "cell_type": "code",
   "execution_count": 159,
   "id": "bb502877-f173-4396-9ce6-a0aac7ddff35",
   "metadata": {},
   "outputs": [],
   "source": [
    "# These parameters will be utilized for both training the normal and the DeLA version\n",
    "\n",
    "device = torch.device('cpu')\n",
    "\n",
    "in_channels = 2\n",
    "hidden_channels = 32\n",
    "out_channels = 64\n",
    "k = 5\n",
    "classes = 10\n",
    "learning_rate = 0.001\n",
    "epochs = 1"
   ]
  },
  {
   "cell_type": "markdown",
   "id": "83bb2d2d-200b-4cc5-8259-4b27b9b628ca",
   "metadata": {},
   "source": [
    "Below, we will define our complete network that will predict the MNIST 2D point clouds. Notice that our network consists of 3 of our previously defined local aggregation layers. After applying a global max pool layer (just like in PointNet) we pass it through a fully connected layer to produce our predictions."
   ]
  },
  {
   "cell_type": "code",
   "execution_count": 160,
   "id": "c724bd2a-d913-42a6-a3c9-0741ea430977",
   "metadata": {},
   "outputs": [],
   "source": [
    "class GNN(nn.Module):\n",
    "    def __init__(self, in_channels, hidden_channels, out_channels):\n",
    "        super().__init__()\n",
    "        self.layer1 = LocalAggrLayer(in_channels, hidden_channels)\n",
    "        self.layer2 = LocalAggrLayer(hidden_channels, hidden_channels)\n",
    "        self.layer3 = LocalAggrLayer(hidden_channels, out_channels)\n",
    "        self.fc = nn.Linear(out_channels, classes)\n",
    "\n",
    "    \n",
    "    def forward(self, pc, knn, rel_dist):\n",
    "        \"\"\"\n",
    "        pc: [N, 2] point cloud\n",
    "        knn: [N, k] precomputed neighbors indices\n",
    "        rel_dist: [N, k, 2] relative distances\n",
    "        \"\"\"\n",
    "        x = self.layer1(pc, knn, rel_dist) # [N, in_channels]\n",
    "        x = self.layer2(x, knn, rel_dist) # [N, hidden_channels]\n",
    "        x = self.layer3(x, knn, rel_dist) # [N, out_channels]\n",
    "        \n",
    "        # Apply global max pooling\n",
    "        x, _ = torch.max(x, dim=0)\n",
    "\n",
    "        # Final classification head\n",
    "        x = self.fc(x)\n",
    "\n",
    "        return x"
   ]
  },
  {
   "cell_type": "markdown",
   "id": "2bd72af7-877f-463f-85dc-ebb6bad8c7ab",
   "metadata": {},
   "source": [
    "Then, we define the model, optimizer, and criterion and run the training loop."
   ]
  },
  {
   "cell_type": "code",
   "execution_count": 161,
   "id": "242f5888-e2a2-436e-8d1b-098bb0b7e23d",
   "metadata": {},
   "outputs": [
    {
     "name": "stdout",
     "output_type": "stream",
     "text": [
      "Epoch [1] 3200/60000, Accuracy: 0.34\n",
      "Epoch [1] 6400/60000, Accuracy: 0.49\n",
      "Epoch [1] 9600/60000, Accuracy: 0.57\n",
      "Epoch [1] 12800/60000, Accuracy: 0.63\n",
      "Epoch [1] 16000/60000, Accuracy: 0.68\n",
      "Epoch [1] 19200/60000, Accuracy: 0.71\n",
      "Epoch [1] 22400/60000, Accuracy: 0.73\n",
      "Epoch [1] 25600/60000, Accuracy: 0.75\n",
      "Epoch [1] 28800/60000, Accuracy: 0.77\n",
      "Epoch [1] 32000/60000, Accuracy: 0.79\n",
      "Epoch [1] 35200/60000, Accuracy: 0.80\n",
      "Epoch [1] 38400/60000, Accuracy: 0.81\n",
      "Epoch [1] 41600/60000, Accuracy: 0.82\n",
      "Epoch [1] 44800/60000, Accuracy: 0.82\n",
      "Epoch [1] 48000/60000, Accuracy: 0.83\n",
      "Epoch [1] 51200/60000, Accuracy: 0.84\n",
      "Epoch [1] 54400/60000, Accuracy: 0.84\n",
      "Epoch [1] 57600/60000, Accuracy: 0.85\n",
      "Epoch [1/1], Loss: 0.4454, Accuracy: 0.85\n"
     ]
    }
   ],
   "source": [
    "normal_model = GNN(in_channels, hidden_channels, out_channels).to(device)\n",
    "optimizer = optim.Adam(normal_model.parameters(), lr=learning_rate)\n",
    "criterion = nn.CrossEntropyLoss()\n",
    "\n",
    "# Train the model\n",
    "for epoch in range(epochs):\n",
    "    normal_model.train()\n",
    "    running_loss = 0.0\n",
    "    correct = 0\n",
    "    total = 0\n",
    "    \n",
    "    for points, labels in train_loader:\n",
    "        batch_loss = 0.0\n",
    "        correct_in_batch = 0\n",
    "\n",
    "        # Iterate over each point cloud in the batch\n",
    "        for i in range(len(points)):\n",
    "            pc = points[i].to(device)\n",
    "            label = labels[i].to(device)\n",
    "\n",
    "            knn = knn_indices(pc, k)\n",
    "\n",
    "            rel_dist = pc[knn] - pc.unsqueeze(1)\n",
    "\n",
    "            # Forward pass\n",
    "            outputs = normal_model(pc, knn, rel_dist)     \n",
    "            \n",
    "            # Compute loss\n",
    "            loss = criterion(outputs.unsqueeze(0), label.long())\n",
    "            batch_loss += loss\n",
    "            \n",
    "            _, predicted = torch.max(outputs, dim=0)\n",
    "            if predicted == label:\n",
    "                correct_in_batch += 1\n",
    "\n",
    "        # Track statistics\n",
    "        running_loss += batch_loss\n",
    "        correct += correct_in_batch\n",
    "        total += len(points)\n",
    "\n",
    "        optimizer.zero_grad()\n",
    "        batch_loss.backward()\n",
    "        optimizer.step()\n",
    "\n",
    "        # Print intermediary results each 3200 instances\n",
    "        if total % 3200 == 0:   \n",
    "            print(f\"Epoch [{epoch+1}] {total}/60000, Accuracy: {correct/total:.2f}\")\n",
    "\n",
    "    # Print statistics after each epoch\n",
    "    print(f\"Epoch [{epoch+1}/{epochs}], Loss: {running_loss/len(train_loader):.4f}, Accuracy: {correct/total:.2f}\")"
   ]
  },
  {
   "cell_type": "markdown",
   "id": "ce745021-2bf0-464d-ba74-8fa9aa1b9aba",
   "metadata": {},
   "source": [
    "---\n",
    "## Implementing Decoupled Local Aggregation version\n",
    "\n",
    "Now as we have seen how a standard local aggregation works, we will move on to the most important part of this notebook: DeLA. As mentioned, the downside is the requirement of feeding the relative distances in each layer. DeLA proposes a different way of local aggregation."
   ]
  },
  {
   "cell_type": "code",
   "execution_count": 162,
   "id": "64292434-96c4-4436-b71a-74703c675cca",
   "metadata": {},
   "outputs": [
    {
     "data": {
      "text/plain": [
       "tensor([[ 0.4076,  0.1021,  0.1658, -0.3993,  0.0530,  0.2953],\n",
       "        [ 0.3803,  0.2140,  0.2133, -0.1999,  0.3609,  0.1660],\n",
       "        [ 0.3216,  0.2372,  0.2965, -0.1802,  0.3790,  0.0506],\n",
       "        [ 0.2165,  0.2888,  0.2594, -0.0760,  0.5170, -0.1285]],\n",
       "       grad_fn=<MaxBackward0>)"
      ]
     },
     "execution_count": 162,
     "metadata": {},
     "output_type": "execute_result"
    }
   ],
   "source": [
    "class DecoupledLocalAggrLayer(nn.Module):\n",
    "    \"\"\"\n",
    "    Decoupled local aggregation layer\n",
    "    \"\"\"\n",
    "    def __init__(self, in_channels, out_channels):\n",
    "        super().__init__()\n",
    "        self.in_channels = in_channels\n",
    "        self.out_channels = out_channels\n",
    "\n",
    "        # Feature aggregation MLP\n",
    "        self.mlp = nn.Sequential(\n",
    "            nn.Linear(in_channels*2, out_channels),\n",
    "            nn.ReLU(),\n",
    "            nn.Linear(out_channels, out_channels)\n",
    "        )\n",
    "\n",
    "        self.cor_head_hidden_dim = 16\n",
    "\n",
    "        # Prediction MLP for predicting relative coordinates\n",
    "        self.pred_mlp = nn.Sequential(\n",
    "            nn.Linear(out_channels, self.cor_head_hidden_dim),\n",
    "            nn.ReLU(),\n",
    "            nn.Linear(self.cor_head_hidden_dim, 2)\n",
    "        )\n",
    "        \n",
    "\n",
    "    def forward(self, pc, knn, rel_dist):\n",
    "        \"\"\"\n",
    "        pc: [N, in_channels] point cloud\n",
    "        knn: [N, k] precomputed neighbors indices\n",
    "        rel_dist: [N, k, 2] relative distances\n",
    "        \"\"\"\n",
    "\n",
    "        # A tensor where each point N has the features of its k neighbors\n",
    "        neighbor_feat = pc[knn] # [N, k, in_channels]\n",
    "\n",
    "        # A tensor with features of each point\n",
    "        center_feat = pc.unsqueeze(1).expand_as(neighbor_feat) # [N, k, in_channels]\n",
    "\n",
    "        # Now we make up the final feature for each neighbor for message passing: [center_features, neighbor_features]\n",
    "        message_feat = torch.concat([center_feat, neighbor_feat], dim=2) # [N, k, in_channel*2]\n",
    "\n",
    "        result = self.mlp(message_feat) # [N, k, out_channels]\n",
    "        \n",
    "        # Regularization\n",
    "        if self.training:\n",
    "            pred_rel = self.pred_mlp(result) # Outputs the predicted relative distance between each center node and neighbor: [N, k, 2] \n",
    "            reg_loss = nn.functional.mse_loss(pred_rel, rel_dist) # Compare the prediction with ground truth\n",
    "        else:\n",
    "            reg_loss = 0\n",
    "        \n",
    "        # Now we aggregate using max (basically a MaxPool)\n",
    "        values, indices = torch.max(result, dim=1)\n",
    "\n",
    "        return values, reg_loss\n",
    "\n",
    "\n",
    "# Sanity check\n",
    "x = LocalAggrLayer(2, 6) # A layer with 2D input and output 6D feature vector\n",
    "test_pc = torch.tensor([[0., 0.],[0., 1.],[0., 2.],[0., 3.]]) # Our test point cloud\n",
    "indices = knn_indices(test_pc, 2) # Calculate the indices of 2 neighbors\n",
    "relative_distances = test_pc[indices] - test_pc.unsqueeze(1) # The relative distances of each neighbor\n",
    "x(torch.tensor([[0., 0.],[0., 1.],[0., 2.],[0., 3.]]), indices, relative_distances)"
   ]
  },
  {
   "cell_type": "markdown",
   "id": "3ea70910-2719-499f-b9e7-25225d7b4cd7",
   "metadata": {},
   "source": [
    "Our complete network to predict the 2D MNIST point clouds is given below and looks identical to the one before. The only difference is that each layer returns the regularization loss of the prediction of relative distances. This distance must be returned by the network to perform backprop. *Note: Because we have a simple 3 layer network, I hardcoded the total regularization loss as the sum of the three, one could simply add the losses dynamically to use more layers.*"
   ]
  },
  {
   "cell_type": "code",
   "execution_count": 163,
   "id": "d42fc1f8-3ec1-4b8b-83fb-9ec99a47f9bf",
   "metadata": {},
   "outputs": [],
   "source": [
    "class DeLAGNN(nn.Module):\n",
    "    def __init__(self, in_channels, hidden_channels, out_channels):\n",
    "        super().__init__()\n",
    "        self.layer1 = DecoupledLocalAggrLayer(in_channels, hidden_channels)\n",
    "        self.layer2 = DecoupledLocalAggrLayer(hidden_channels, hidden_channels)\n",
    "        self.layer3 = DecoupledLocalAggrLayer(hidden_channels, out_channels)\n",
    "        self.fc = nn.Linear(out_channels, classes)\n",
    "\n",
    "    \n",
    "    def forward(self, pc, knn, rel_dist):\n",
    "        x, reg_loss1 = self.layer1(pc, knn, rel_dist)\n",
    "        x, reg_loss2 = self.layer2(x, knn, rel_dist)\n",
    "        x, reg_loss3 = self.layer3(x, knn, rel_dist)\n",
    "        \n",
    "        # Apply global max pooling\n",
    "        x, _ = torch.max(x, dim=0)\n",
    "\n",
    "        # Final classification head\n",
    "        x = self.fc(x)\n",
    "\n",
    "        total_reg_loss = reg_loss1 + reg_loss2 + reg_loss3\n",
    "\n",
    "        return x, total_reg_loss"
   ]
  },
  {
   "cell_type": "markdown",
   "id": "0a07de22-8c1b-43ab-b7b7-9f00fd6387cc",
   "metadata": {},
   "source": [
    "Finally, we train the DeLA version of our model using the same hyperparameters as before, so make sure you have ran the cell with the hyperparameters."
   ]
  },
  {
   "cell_type": "code",
   "execution_count": 164,
   "id": "c7b4c036-3bb8-421b-998d-cc4147ca3ca7",
   "metadata": {},
   "outputs": [
    {
     "name": "stdout",
     "output_type": "stream",
     "text": [
      "Epoch [1] 3200/60000, Accuracy: 0.38\n",
      "Epoch [1] 6400/60000, Accuracy: 0.52\n",
      "Epoch [1] 9600/60000, Accuracy: 0.59\n",
      "Epoch [1] 12800/60000, Accuracy: 0.64\n",
      "Epoch [1] 16000/60000, Accuracy: 0.68\n",
      "Epoch [1] 19200/60000, Accuracy: 0.70\n",
      "Epoch [1] 22400/60000, Accuracy: 0.73\n",
      "Epoch [1] 25600/60000, Accuracy: 0.74\n",
      "Epoch [1] 28800/60000, Accuracy: 0.76\n",
      "Epoch [1] 32000/60000, Accuracy: 0.77\n",
      "Epoch [1] 35200/60000, Accuracy: 0.78\n",
      "Epoch [1] 38400/60000, Accuracy: 0.79\n",
      "Epoch [1] 41600/60000, Accuracy: 0.80\n",
      "Epoch [1] 44800/60000, Accuracy: 0.81\n",
      "Epoch [1] 48000/60000, Accuracy: 0.82\n",
      "Epoch [1] 51200/60000, Accuracy: 0.82\n",
      "Epoch [1] 54400/60000, Accuracy: 0.83\n",
      "Epoch [1] 57600/60000, Accuracy: 0.83\n",
      "Epoch [1/1], Loss: 0.5696, Accuracy: 0.84\n"
     ]
    }
   ],
   "source": [
    "dela_model = DeLAGNN(in_channels, hidden_channels, out_channels).to(device)\n",
    "optimizer = optim.Adam(dela_model.parameters(), lr=learning_rate)\n",
    "criterion = nn.CrossEntropyLoss()\n",
    "\n",
    "# Train the model\n",
    "for epoch in range(epochs):\n",
    "    dela_model.train()\n",
    "    running_loss = 0.0\n",
    "    correct = 0\n",
    "    total = 0\n",
    "    \n",
    "    for points, labels in train_loader:\n",
    "        batch_loss = 0.0\n",
    "        correct_in_batch = 0\n",
    "\n",
    "        # Iterate over each point cloud in the batch\n",
    "        for i in range(len(points)):\n",
    "            point_cloud = points[i].to(device)\n",
    "            label = labels[i].to(device)\n",
    "\n",
    "            knn = knn_indices(point_cloud, k)\n",
    "\n",
    "            rel_dist = point_cloud[knn] - point_cloud.unsqueeze(1)\n",
    "\n",
    "            # Forward pass\n",
    "            outputs, reg_loss = dela_model(point_cloud, knn, rel_dist)     \n",
    "            \n",
    "            # Compute loss\n",
    "            loss = criterion(outputs.unsqueeze(0), label.long())\n",
    "            batch_loss += loss + reg_loss\n",
    "            \n",
    "            _, predicted = torch.max(outputs, dim=0)\n",
    "            if predicted == label:\n",
    "                correct_in_batch += 1\n",
    "\n",
    "        # Track statistics\n",
    "        running_loss += batch_loss\n",
    "        correct += correct_in_batch\n",
    "        total += len(points)\n",
    "\n",
    "        optimizer.zero_grad()\n",
    "        batch_loss.backward()\n",
    "        optimizer.step()\n",
    "\n",
    "        # Print intermediary results each 3200 instances\n",
    "        if total % 3200 == 0:   \n",
    "            print(f\"Epoch [{epoch+1}] {total}/60000, Accuracy: {correct/total:.2f}\")\n",
    "\n",
    "    # Print statistics after each epoch\n",
    "    print(f\"Epoch [{epoch+1}/{epochs}], Loss: {running_loss/len(train_loader):.4f}, Accuracy: {correct/total:.2f}\")"
   ]
  },
  {
   "cell_type": "code",
   "execution_count": 165,
   "id": "43c676ae-bf2a-4721-bb59-c6e768016ad8",
   "metadata": {},
   "outputs": [
    {
     "name": "stdout",
     "output_type": "stream",
     "text": [
      "Test accuracy on normal model: 92.56%, took 9.800077199935913 seconds\n",
      "Test accuracy on DeLA model: 89.69%, took 9.688350200653076 seconds\n"
     ]
    }
   ],
   "source": [
    "def testNormalGNN():\n",
    "    \"\"\"\n",
    "    Validate the accuracy of the normal model on the testset\n",
    "    \"\"\"\n",
    "    k_neighbors = 5\n",
    "    normal_model.eval()\n",
    "    correct = 0\n",
    "    total = 0\n",
    "\n",
    "    start = time.time()\n",
    "    \n",
    "    with torch.no_grad():\n",
    "        for points, labels in test_loader:\n",
    "            for i in range(len(points)):\n",
    "                point_cloud = points[i].to(device) # [N, 2]\n",
    "                label = labels[i].to(device)\n",
    "    \n",
    "                knn = knn_indices(point_cloud, k_neighbors) # [N, k]\n",
    "                rel_dist = point_cloud[knn] - point_cloud.unsqueeze(1) # [N, k, 2]\n",
    "    \n",
    "                outputs = normal_model(point_cloud, knn, rel_dist)\n",
    "    \n",
    "                _, predicted = torch.max(outputs, dim=0)\n",
    "                if predicted == label:\n",
    "                    correct += 1\n",
    "                total += 1\n",
    "\n",
    "    elapsed = time.time() - start\n",
    "    print(f'Test accuracy on normal model: {100 * correct / total:.2f}%, took {elapsed} seconds')\n",
    "\n",
    "    \n",
    "def testDeLAGNN():\n",
    "    \"\"\"\n",
    "    Validate the accuracy of the DeLA model on the testset\n",
    "    \"\"\"\n",
    "    k_neighbors = 5\n",
    "    dela_model.eval()\n",
    "    correct = 0\n",
    "    total = 0\n",
    "\n",
    "    start = time.time()\n",
    "    with torch.no_grad():\n",
    "        for points, labels in test_loader:\n",
    "            for i in range(len(points)):\n",
    "                point_cloud = points[i].to(device) # [N, 2]\n",
    "                label = labels[i].to(device)\n",
    "    \n",
    "                knn = knn_indices(point_cloud, k_neighbors) # [N, k]\n",
    "                rel_dist = point_cloud[knn] - point_cloud.unsqueeze(1) # [N, k, 2]\n",
    "    \n",
    "                outputs, _ = dela_model(point_cloud, knn, rel_dist)\n",
    "    \n",
    "                _, predicted = torch.max(outputs, dim=0)\n",
    "                if predicted == label:\n",
    "                    correct += 1\n",
    "                total += 1\n",
    "\n",
    "    elapsed = time.time() - start\n",
    "    print(f'Test accuracy on DeLA model: {100 * correct / total:.2f}%, took {elapsed} seconds')\n",
    "\n",
    "testNormalGNN()\n",
    "testDeLAGNN()"
   ]
  },
  {
   "cell_type": "markdown",
   "id": "9c716ab9-0366-4667-9963-61975071b694",
   "metadata": {},
   "source": [
    "---\n",
    "## Visualizing the predictive performance of DeLA\n",
    "In the cell below, we can predict visualize the relative distance predictions of the prediction MLP inside each layer. As can be seen, the predictions are quite reasonable, even in deeper layers.\n",
    "\n",
    "You can use the provided slider to select a particular point in the point cloud. If you want to test it on a new random 2D MNIST point cloud, just rerun the cell."
   ]
  },
  {
   "cell_type": "code",
   "execution_count": 132,
   "id": "80fcd567-994e-4fe5-a703-30b671d6ec18",
   "metadata": {},
   "outputs": [
    {
     "data": {
      "application/vnd.jupyter.widget-view+json": {
       "model_id": "a9cc432c620d4349aa2466a00a88f8f8",
       "version_major": 2,
       "version_minor": 0
      },
      "text/plain": [
       "interactive(children=(IntSlider(value=0, description='i', layout=Layout(width='1000px'), max=165), Output()), …"
      ]
     },
     "metadata": {},
     "output_type": "display_data"
    }
   ],
   "source": [
    "dela_model.eval()\n",
    "\n",
    "coords, label = train_ds[0]\n",
    "coords = coords.unsqueeze(0)\n",
    "pc = coords[0].to(device) # [N, 2]\n",
    "label = labels[0].item()\n",
    "\n",
    "\n",
    "k = 5\n",
    "knn = knn_indices(pc, k)\n",
    "\n",
    "\n",
    "neighbor_feat = pc[knn] # [N, k, 2]\n",
    "center_feat = pc.unsqueeze(1).expand_as(neighbor_feat) # [N, k, 2]\n",
    "center_coords = center_feat\n",
    "message_feat = torch.cat([center_feat, neighbor_feat], dim=2) # [N, k, 4]\n",
    "\n",
    "pred_feat = dela_model.layer1.mlp(message_feat) # [N, k, hidden_channels=16]\n",
    "pred_rel = dela_model.layer1.pred_mlp(pred_feat) # [N, k, 2]\n",
    "pred_coords = center_coords + pred_rel # [N, k, 2]\n",
    "\n",
    "pc_np = pc.cpu().numpy()\n",
    "pred_coords_np = pred_coords.cpu().detach().numpy()\n",
    "knn_np = knn.cpu().numpy()\n",
    "\n",
    "\n",
    "def show_pred(i):\n",
    "    plt.figure(figsize=(10, 9))\n",
    "    plt.scatter(pc_np[:, 0], pc_np[:, 1], c='lightgray', label='Point cloud')\n",
    "    plt.scatter(pc_np[i, 0], pc_np[i, 1], c='red', label='Center point', s=60)\n",
    "    \n",
    "    colors = cm.tab10(np.linspace(0, 1, k))[:, :3]\n",
    "    darker_colors = colors * 0\n",
    "    \n",
    "    for j in range(k):\n",
    "        neighbor_idx = knn_np[i, j]\n",
    "        true_neighbor = pc_np[neighbor_idx]\n",
    "        predicted_neighbor = pred_coords_np[i, j]\n",
    "    \n",
    "        plt.scatter(true_neighbor[0], true_neighbor[1], color=colors[j], label=f'True neighbor {j+1}', s=30)\n",
    "        plt.scatter(predicted_neighbor[0], predicted_neighbor[1], color=darker_colors[j], marker='x', s=30, label=f'Predicted neighbor {j+1}')\n",
    "\n",
    "        # Plot lines\n",
    "        plt.plot([pc_np[i, 0], true_neighbor[0]], [pc_np[i, 1], true_neighbor[1]], color=colors[j], linestyle='--', linewidth=1)\n",
    "        plt.plot([pc_np[i, 0], predicted_neighbor[0]], [pc_np[i, 1], predicted_neighbor[1]], color=darker_colors[j], linestyle='-', linewidth=1)\n",
    "\n",
    "    plt.title(f\"Predicted neighbor positions, label: {int(label)}\")\n",
    "    plt.legend(\n",
    "        loc='upper center',\n",
    "        bbox_to_anchor=(0.5, -0.1),\n",
    "        ncol=3,\n",
    "    )\n",
    "    plt.subplots_adjust(bottom=0.25)\n",
    "    plt.grid(True)\n",
    "    plt.axis('equal')\n",
    "    plt.show()\n",
    "\n",
    "\n",
    "\n",
    "interact(show_pred, i=IntSlider(min=0, max=pc_np.shape[0] - 1, step=1, value=0, layout=Layout(width='1000px')));"
   ]
  },
  {
   "cell_type": "code",
   "execution_count": 133,
   "id": "d9a0f2d1-82bb-4403-b175-160b95f48586",
   "metadata": {},
   "outputs": [
    {
     "data": {
      "application/vnd.jupyter.widget-view+json": {
       "model_id": "7099628d763c43d48ed36e38b6bf6d03",
       "version_major": 2,
       "version_minor": 0
      },
      "text/plain": [
       "interactive(children=(IntSlider(value=0, description='i', layout=Layout(width='1000px'), max=165), Output()), …"
      ]
     },
     "metadata": {},
     "output_type": "display_data"
    },
    {
     "data": {
      "application/vnd.jupyter.widget-view+json": {
       "model_id": "c6dca945da724e86beb26126c131e5f5",
       "version_major": 2,
       "version_minor": 0
      },
      "image/png": "[encoded data removed]",
      "text/html": [
       "\n",
       "            <div style=\"display: inline-block;\">\n",
       "                <div class=\"jupyter-widgets widget-label\" style=\"text-align: center;\">\n",
       "                    Figure\n",
       "                </div>\n",
       "                <img src='data:image/png;base64,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' width=1400.0/>\n",
       "            </div>\n",
       "        "
      ],
      "text/plain": [
       "Canvas(toolbar=Toolbar(toolitems=[('Home', 'Reset original view', 'home', 'home'), ('Back', 'Back to previous …"
      ]
     },
     "metadata": {},
     "output_type": "display_data"
    }
   ],
   "source": [
    "dela_model.eval()\n",
    "\n",
    "coords, label = train_ds[0]\n",
    "coords = coords.unsqueeze(0)\n",
    "pc = coords[0].to(device) # [N, 2]\n",
    "label = label[0].item()\n",
    "\n",
    "\n",
    "k = 5\n",
    "knn = knn_indices(pc, k)\n",
    "\n",
    "\n",
    "# Compute predicted relative distances in layer 1\n",
    "neighbor_feat = pc[knn] # [N, k, 2]\n",
    "center_feat = pc.unsqueeze(1).expand_as(neighbor_feat) # [N, k, 2]\n",
    "center_coords = center_feat\n",
    "message_feat = torch.cat([center_feat, neighbor_feat], dim=2) # [N, k, 4]\n",
    "\n",
    "pred_feat = dela_model.layer1.mlp(message_feat) # [N, k, hidden_channels=16]\n",
    "pred_rel = dela_model.layer1.pred_mlp(pred_feat) # [N, k, 2]\n",
    "pred_coords = center_coords + pred_rel # [N, k, 2]\n",
    "\n",
    "pc_np = pc.cpu().numpy()\n",
    "knn_np = knn.cpu().numpy()\n",
    "pred_coords_1_np = pred_coords.cpu().detach().numpy()\n",
    "\n",
    "\n",
    "# Comptute predicted relative distances in layer 2\n",
    "# Feed through layer 1 [2 -> 16]\n",
    "out, _  = dela_model.layer1(pc, knn, rel_dist) # out: [N, hidden_dim=16]\n",
    "\n",
    "# Feed through layer 2 [16 -> 16]\n",
    "neighbor_feat = out[knn] # [N, k, 16]\n",
    "center_feat = out.unsqueeze(1).expand_as(neighbor_feat) # [N, k, 16]\n",
    "message_feat = torch.cat([center_feat, neighbor_feat], dim=2) # [N, k, 16*2]\n",
    "\n",
    "pred_feat = dela_model.layer2.mlp(message_feat) # [N, k, 16]\n",
    "pred_rel = dela_model.layer2.pred_mlp(pred_feat) # [N, k, 2]\n",
    "pred_coords = center_coords + pred_rel # [N, k, 2]\n",
    "\n",
    "pred_coords_2_np = pred_coords.cpu().detach().numpy()\n",
    "\n",
    "\n",
    "# Computepredicted relative distances in layer 3\n",
    "# Feed through layer 1 [2 -> 16]\n",
    "out, _  = dela_model.layer1(pc, knn, rel_dist) # out: [N, hidden_dim=16]\n",
    "\n",
    "# Feed through layer 2 [16 -> 16]\n",
    "out, _  = dela_model.layer2(out, knn, rel_dist) # out: [N, hidden_dim=16]\n",
    "\n",
    "# Feed through layer 3 [16 -> 32]\n",
    "neighbor_feat = out[knn] # [N, k, 16]\n",
    "center_feat = out.unsqueeze(1).expand_as(neighbor_feat) # [N, k, 16]\n",
    "message_feat = torch.cat([center_feat, neighbor_feat], dim=2) # [N, k, 16*2]\n",
    "\n",
    "pred_feat = dela_model.layer3.mlp(message_feat) # [N, k, 32]\n",
    "pred_rel = dela_model.layer3.pred_mlp(pred_feat) # [N, k, 2]\n",
    "pred_coords = center_coords + pred_rel # [N, k, 2]\n",
    "\n",
    "pred_coords_3_np = pred_coords.cpu().detach().numpy()\n",
    "\n",
    "\n",
    "data = [pred_coords_1_np, pred_coords_2_np, pred_coords_3_np]\n",
    "\n",
    "\n",
    "fig, axes = plt.subplots(1, 3, figsize=(14, 5))\n",
    "# fig.subplots_adjust(top=0.98, bottom=0.02)\n",
    "fig.subplots_adjust(left=0, right=1)\n",
    "\n",
    "\n",
    "def show_pred(i):\n",
    "    \n",
    "    for idx, ax in enumerate(axes):\n",
    "        ax.clear()\n",
    "        # plt.figure(figsize=(10, 9))\n",
    "        ax.scatter(pc_np[:, 0], pc_np[:, 1], c='lightgray', label='Point cloud')\n",
    "        ax.scatter(pc_np[i, 0], pc_np[i, 1], c='red', label='Center point', s=30)\n",
    "        \n",
    "        colors = cm.tab10(np.linspace(0, 1, k))[:, :3]\n",
    "        darker_colors = colors * 0\n",
    "        \n",
    "        for j in range(k):\n",
    "            neighbor_idx = knn_np[i, j]\n",
    "            true_neighbor = pc_np[neighbor_idx]\n",
    "            predicted_neighbor = data[idx][i, j]\n",
    "        \n",
    "            ax.scatter(true_neighbor[0], true_neighbor[1], color=colors[j], label=f'True neighbor {j+1}', s=20)\n",
    "            ax.scatter(predicted_neighbor[0], predicted_neighbor[1], color=darker_colors[j], marker='x', s=20, label=f'Predicted neighbor {j+1}')\n",
    "    \n",
    "            # Plot lines\n",
    "            # ax.plot([pc_np[i, 0], true_neighbor[0]], [pc_np[i, 1], true_neighbor[1]], color=colors[j], linestyle='--', linewidth=1)\n",
    "            # ax.plot([pc_np[i, 0], predicted_neighbor[0]], [pc_np[i, 1], predicted_neighbor[1]], color=darker_colors[j], linestyle='-', linewidth=1)\n",
    "    \n",
    "        ax.set_title(f\"Predictions in Layer {idx}\")\n",
    "\n",
    "\n",
    "interact(show_pred, i=IntSlider(min=0, max=pc_np.shape[0] - 1, step=1, value=0, layout=Layout(width='1000px')));"
   ]
  },
  {
   "cell_type": "markdown",
   "id": "34ac53d3-bacd-4ba7-913a-f2d23b4665e0",
   "metadata": {},
   "source": [
    "---\n",
    "# Conclusion\n",
    "This concludes this notebook. In this notebook, we have illustrated in high level how the Decoupled Local Aggregation mechanism works in the paper DeLA: Decoupled Local Aggregation. We have explored the mechanism of decoupling the local aggregation on a toy example using the 2D MNIST point cloud dataset. In particular, we have constructed a simple 2D point cloud classifier with and without decoupled local aggregation. Furthermore, we have shown that even in this simple examlple, that the accuracies with and without docoupled local aggregation are comparable, and that the relative distances are fairly well encoded in the feature vectors of the point embeddings. Even though our example is in 2D, it can be naturally extended into 3D space."
   ]
  }
 ],
 "metadata": {
  "kernelspec": {
   "display_name": "Python 3 (ipykernel)",
   "language": "python",
   "name": "python3"
  },
  "language_info": {
   "codemirror_mode": {
    "name": "ipython",
    "version": 3
   },
   "file_extension": ".py",
   "mimetype": "text/x-python",
   "name": "python",
   "nbconvert_exporter": "python",
   "pygments_lexer": "ipython3",
   "version": "3.11.13"
  }
 },
 "nbformat": 4,
 "nbformat_minor": 5
}
