{
 "cells": [
  {
   "cell_type": "markdown",
   "id": "b6af31c2-637a-4c84-bcb0-9786b66e808f",
   "metadata": {
    "deletable": false,
    "editable": false,
    "scrolled": true,
    "slideshow": {
     "slide_type": ""
    },
    "tags": []
   },
   "source": [
    "# DeLA Spatial Regularization Interactive Notebook\n",
    "\n",
    "Created by: Maosheng Jiang\n",
    "\n",
    "This notebook is a supplementary educational tool to illustrate how the spatial regularization works in the paper: [Decoupled Local Aggregation for Point Cloud Learning](https://arxiv.org/abs/2308.16532)."
   ]
  },
  {
   "cell_type": "markdown",
   "id": "a616b777-e232-4b64-ba8c-af5aadfc1369",
   "metadata": {
    "deletable": false,
    "editable": false,
    "scrolled": true,
    "slideshow": {
     "slide_type": ""
    },
    "tags": []
   },
   "source": [
    "## Preliminaries \n",
    "\n",
    "Traditional local aggregation will, at each aggregation layer, explicitly model relative coordinates in each aggregation layer. While this improves the spatial awareness of points in the layers, it also comes with additional computation complexity, especially in deep networks with many local aggregation layers. Decoupled Local Aggregation (DeLA) proposes Decoupled Local Aggregation: we encode the spatial information between points beforehand and avoid re-using the spatial distances in each layer.\n",
    "\n",
    "![Traditional Aggregation vs Decoupled Local Aggregation](comparison.png)\n",
    "\n",
    "In the image above, it is shown that traditional local aggregation model relative coordinates (spatial information) explicitly in each layer. In DeLA, the relative coordinates are precomputed and encoded in the features, thus not requiring explicit modelling of spatial information in each layer.\n",
    "\n",
    "To put it more mathematically, we can express traditional local aggregation in a layer as follows (taken from the paper):\n",
    "$$\n",
    "y_i = f\\Bigl(\\{\\bigl(x_j,p_j - p_i\\bigr)\\mid j \\in N_i\\}, x_i\\Bigr) \\tag{1}\n",
    "$$\n",
    "\n",
    "Where $f$ is some function, $x_i$ is the center feature, $N_i$ is the neighborhood of $x_i$, $x_j$ is the neighbor feature, $p_j - p_j$ is the relative distance between the neighbor point and center point, and $y_i$ is the final feature after aggregation.\n",
    "\n",
    "And decoupled local aggregation as follows (also taken from the paper):\n",
    "$$\n",
    "y_i = h\\Bigl(M\\bigl(\\{g(x_j)\\mid j \\in N_i\\}\\bigr), x_i\\Bigr) \\tag{2}\n",
    "$$\n",
    "\n",
    "Here, the variables are similar as in the equation before, with $h$, $M$, and $g$ are some functions aswell. The noticable difference is that in the case of decoupled local aggregation, we do not supply the relative distances explicitly, because this information is already encoded in $x_j$ and $x_i$.\n",
    "\n",
    "In this notebook, we are going to illustrate DeLA on a toy example, showing the decoupling of the spatial information from the local aggregation!"
   ]
  },
  {
   "cell_type": "markdown",
   "id": "9714d7ea-2ac7-4643-97f9-c9f47a0ec972",
   "metadata": {},
   "source": [
    "First, let's import the required libraries:"
   ]
  },
  {
   "cell_type": "code",
   "execution_count": 2,
   "id": "baef8cdb-dc36-4771-86c1-d5fb27d17c75",
   "metadata": {
    "editable": false,
    "slideshow": {
     "slide_type": ""
    },
    "tags": []
   },
   "outputs": [],
   "source": [
    "import numpy as np\n",
    "import pandas as pd\n",
    "from pathlib import Path\n",
    "import torch\n",
    "import torch.nn as nn\n",
    "from torch.utils.data import Dataset, DataLoader\n",
    "import matplotlib.pyplot as plt\n",
    "import torch.optim as optim\n",
    "import matplotlib.cm as cm\n",
    "from ipywidgets import interact, IntSlider, Layout\n",
    "import time"
   ]
  },
  {
   "cell_type": "markdown",
   "id": "9d32c4f7-1f3b-4f39-a1c3-0e9e2b5209e6",
   "metadata": {
    "editable": false,
    "slideshow": {
     "slide_type": ""
    },
    "tags": []
   },
   "source": [
    "----\n",
    "## Toy example\n",
    "\n",
    "To illustrate the regularization term, we will implement and train a 2D point cloud network to classify 2D point clouds of handwritten digits (MNIST). The training dataset contains 60000 2D point clouds, each consisting of a maximum of 351 2D points with a corresponding value which specifies how large a point is. The test set contains 10000 2D point clouds. For more information, refer to the kaggle source: https://www.kaggle.com/datasets/cristiangarcia/pointcloudmnist2d/data"
   ]
  },
  {
   "cell_type": "markdown",
   "id": "c3c5ff68-b27a-4bc2-baf4-8e6e6a9c5627",
   "metadata": {
    "editable": false,
    "slideshow": {
     "slide_type": ""
    },
    "tags": []
   },
   "source": [
    "Now, let's get familiar with the dataset and load it:"
   ]
  },
  {
   "cell_type": "code",
   "execution_count": 3,
   "id": "618f3d69-2b96-4c23-a0f7-7ff65e5da444",
   "metadata": {
    "editable": true,
    "slideshow": {
     "slide_type": ""
    },
    "tags": []
   },
   "outputs": [],
   "source": [
    "TRAIN_PATH = Path(\"archive/train.csv\")\n",
    "TEST_PATH = Path(\"archive/test.csv\")\n",
    "\n",
    "\n",
    "def read_data(path):\n",
    "    return pd.read_csv(path)\n",
    "\n",
    "\n",
    "def preprocess_data(df):\n",
    "    X = df[df.columns[1:]].to_numpy()\n",
    "    y = df[df.columns[0]].to_numpy()\n",
    "\n",
    "    X = X.reshape((X.shape[0], 351, 3))\n",
    "    X = X[:, :, :-1] # Drop the value column (not needed)\n",
    "    y = y.reshape(y.shape[0], 1)\n",
    "\n",
    "    # X: [60000, 351, 3], y: [60000, 1]\n",
    "    return torch.tensor(X, dtype=torch.float32), torch.tensor(y, dtype=torch.float32)\n",
    "\n",
    "X_train, y_train = preprocess_data(read_data(TRAIN_PATH))\n",
    "X_test, y_test = preprocess_data(read_data(TEST_PATH))"
   ]
  },
  {
   "cell_type": "markdown",
   "id": "b63068c0-f97e-474c-a591-782e92368ede",
   "metadata": {
    "editable": false,
    "slideshow": {
     "slide_type": ""
    },
    "tags": []
   },
   "source": [
    "All point clouds have a fixed number of points (351). This is because it is the maximum number of points found in a single point cloud in the dataset. If a point cloud has less than 351 points, then the rest of the points are masked as -1. So we need to account for this."
   ]
  },
  {
   "cell_type": "markdown",
   "id": "a3740428-bd24-44cf-ad40-14bafe25c261",
   "metadata": {
    "editable": false,
    "slideshow": {
     "slide_type": ""
    },
    "tags": []
   },
   "source": [
    "Let's visualize a random point cloud from the training set!"
   ]
  },
  {
   "cell_type": "code",
   "execution_count": 52,
   "id": "2f9d1a20-8b08-40e8-9e39-d32c385103ab",
   "metadata": {
    "editable": true,
    "slideshow": {
     "slide_type": ""
    },
    "tags": []
   },
   "outputs": [
    {
     "data": {
      "application/vnd.jupyter.widget-view+json": {
       "model_id": "a442cfd8eb5b4a4f887a4a884d18f7d7",
       "version_major": 2,
       "version_minor": 0
      },
      "image/png": "[encoded data removed]",
      "text/html": [
       "\n",
       "            <div style=\"display: inline-block;\">\n",
       "                <div class=\"jupyter-widgets widget-label\" style=\"text-align: center;\">\n",
       "                    Figure\n",
       "                </div>\n",
       "                <img src='data:image/png;base64,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' width=500.0/>\n",
       "            </div>\n",
       "        "
      ],
      "text/plain": [
       "Canvas(toolbar=Toolbar(toolitems=[('Home', 'Reset original view', 'home', 'home'), ('Back', 'Back to previous …"
      ]
     },
     "metadata": {},
     "output_type": "display_data"
    }
   ],
   "source": [
    "idx = np.random.randint(X_train.shape[0])\n",
    "\n",
    "pc = X_train[idx]\n",
    "\n",
    "# Keep only the real points (where x != -1 and y != -1)\n",
    "pc = pc[(pc[:, 0] != -1) & (pc[:, 1] != -1)]\n",
    "label = y_train[idx].item()\n",
    "\n",
    "plt.figure(figsize=(5,5))\n",
    "plt.scatter(pc[:, 0], pc[:, 1])\n",
    "plt.title(f\"Example MNIST point cloud of digit {int(label)}\")\n",
    "plt.xlabel(\"x\")\n",
    "plt.ylabel(\"y\")\n",
    "plt.show()"
   ]
  },
  {
   "cell_type": "markdown",
   "id": "6d21c453-608f-4928-affa-77c3d7a1757f",
   "metadata": {
    "editable": false,
    "slideshow": {
     "slide_type": ""
    },
    "tags": []
   },
   "source": [
    "Now we have the MNIST 2D point clouds, let's make the data loader for the train and test dataset."
   ]
  },
  {
   "cell_type": "code",
   "execution_count": 53,
   "id": "3957d0e2-d1c1-4285-ad17-588d6864d5c0",
   "metadata": {
    "editable": true,
    "slideshow": {
     "slide_type": ""
    },
    "tags": []
   },
   "outputs": [],
   "source": [
    "class PointCloudDataset(Dataset):\n",
    "    def __init__(self, X, y):\n",
    "        \"\"\"\n",
    "        X: [num_samples, 351, 2] \n",
    "        y: [num_samples, 1]\n",
    "        \"\"\"\n",
    "        self.X = X\n",
    "        self.y = y\n",
    "\n",
    "    def __len__(self):\n",
    "        return len(self.X)\n",
    "\n",
    "    def __getitem__(self, item):\n",
    "        pc = self.X[item]\n",
    "        label = self.y[item]\n",
    "\n",
    "        # Keep only the real points (where x != -1 and y != -1)\n",
    "        pc = pc[(pc[:, 0] != -1) & (pc[:, 1] != -1)]\n",
    "\n",
    "        return pc, label\n",
    "\n",
    "\n",
    "# Since the point clouds have variable amount of points, we cannot use default batching.\n",
    "# We need to implement a custom collate_fn which will be passed into the dataloader\n",
    "# to create a custom batch, which is a list of variable point clouds\n",
    "def collate_fn(batch):\n",
    "    coords_list = [item[0] for item in batch]\n",
    "    labels      = [item[1] for item in batch]\n",
    "    return coords_list, labels"
   ]
  },
  {
   "cell_type": "code",
   "execution_count": 54,
   "id": "f1c00ffa-c529-43bd-b927-dcc112ee5783",
   "metadata": {
    "editable": true,
    "slideshow": {
     "slide_type": ""
    },
    "tags": []
   },
   "outputs": [],
   "source": [
    "train_ds = PointCloudDataset(X_train, y_train)\n",
    "test_ds = PointCloudDataset(X_test, y_test)\n",
    "\n",
    "train_loader = DataLoader(train_ds, batch_size=1, collate_fn=collate_fn, shuffle=True)\n",
    "test_loader = DataLoader(test_ds, batch_size=1, collate_fn=collate_fn, shuffle=True)"
   ]
  },
  {
   "cell_type": "markdown",
   "id": "72426f70-48b3-4d55-8cc5-90499e61239f",
   "metadata": {
    "editable": false,
    "slideshow": {
     "slide_type": ""
    },
    "tags": []
   },
   "source": [
    "---\n",
    "## Classifier Model\n",
    "\n",
    "Now we have the dataloaders ready, it is time to define a 2D point cloud classification model with 3 local aggregation layers with global max pooling at the end."
   ]
  },
  {
   "cell_type": "markdown",
   "id": "31fa0bc8-4812-4d51-b05c-993fe93f3ac9",
   "metadata": {
    "editable": false,
    "slideshow": {
     "slide_type": ""
    },
    "tags": []
   },
   "source": [
    "First we precompute the relative distances of the k neighbors of each point to save computation. We are using a simple method that first computes for each point the euclidean distance to all other points. In the original DeLA implementation, the authors used an knn algorithm with KD-Trees which is more efficient."
   ]
  },
  {
   "cell_type": "code",
   "execution_count": 55,
   "id": "8cc6e484-b053-4252-99a8-7acc17aa0905",
   "metadata": {
    "editable": true,
    "slideshow": {
     "slide_type": ""
    },
    "tags": []
   },
   "outputs": [
    {
     "name": "stdout",
     "output_type": "stream",
     "text": [
      "tensor([[1, 2],\n",
      "        [0, 2],\n",
      "        [1, 3],\n",
      "        [2, 1]])\n",
      "tensor([[[ 0.,  1.],\n",
      "         [ 0.,  2.]],\n",
      "\n",
      "        [[ 0., -1.],\n",
      "         [ 0.,  1.]],\n",
      "\n",
      "        [[ 0., -1.],\n",
      "         [ 0.,  1.]],\n",
      "\n",
      "        [[ 0., -1.],\n",
      "         [ 0., -2.]]])\n"
     ]
    }
   ],
   "source": [
    "def knn_indices(pc, k):\n",
    "    \"\"\"\n",
    "    pc: [N,2] point cloud\n",
    "    returns indices: [N,k] tensor of neighbor indices for each point\n",
    "    \"\"\"\n",
    "    dist = torch.cdist(pc, pc, p=2)\n",
    "    values, indices = torch.topk(dist, k+1, largest=False, dim=-1)\n",
    "\n",
    "    # Remove the index of its own point\n",
    "    return indices[:, 1:]\n",
    "\n",
    "\n",
    "# Sanity check\n",
    "test_pc = torch.tensor([[0., 0.],[0., 1.],[0., 2.],[0., 3.]]) # [N, 2] out test point cloud\n",
    "indices = knn_indices(test_pc, 2) # [N, k] indices of of the neighbors\n",
    "print(indices)\n",
    "rel_dist = test_pc[indices] - test_pc.unsqueeze(1) # [N, k, 2] relative distances for each neighbor\n",
    "print(rel_dist)"
   ]
  },
  {
   "cell_type": "markdown",
   "id": "f3c87993-5744-4a90-84b5-4cd9a3aeff45",
   "metadata": {
    "editable": true,
    "slideshow": {
     "slide_type": ""
    },
    "tags": []
   },
   "source": [
    "---\n",
    "## Defining a standard local aggregation layer\n",
    "\n",
    "Now, we will define a standard local aggregation layer. The code is commented to help understand the code better."
   ]
  },
  {
   "cell_type": "code",
   "execution_count": 56,
   "id": "2ff0025d-2fa3-4e41-a78e-cb5faed41c81",
   "metadata": {
    "editable": true,
    "slideshow": {
     "slide_type": ""
    },
    "tags": []
   },
   "outputs": [
    {
     "data": {
      "text/plain": [
       "tensor([[-0.5132,  0.4626,  0.5244,  0.3024, -0.4093,  0.3866],\n",
       "        [-0.2511,  0.3069,  0.5421,  0.3428, -0.2850,  0.5466],\n",
       "        [-0.5401,  0.3441,  0.6887,  0.2756, -0.3559,  0.8018],\n",
       "        [-0.5631,  0.0367,  0.6463,  0.2848, -0.3645,  0.7783]],\n",
       "       grad_fn=<MaxBackward0>)"
      ]
     },
     "execution_count": 56,
     "metadata": {},
     "output_type": "execute_result"
    }
   ],
   "source": [
    "class LocalAggrLayer(nn.Module):\n",
    "    \"\"\"\n",
    "    Standard local aggregation layer\n",
    "    \"\"\"\n",
    "    def __init__(self, in_channels, out_channels):\n",
    "        super().__init__()\n",
    "        self.in_channels = in_channels\n",
    "        self.out_channels = out_channels\n",
    "\n",
    "        self.mlp = nn.Sequential(\n",
    "            nn.Linear(in_channels*2 + 2, out_channels),\n",
    "            nn.ReLU(),\n",
    "            nn.Linear(out_channels, out_channels)\n",
    "        )\n",
    "        \n",
    "\n",
    "    def forward(self, pc, knn, rel_dist):\n",
    "        \"\"\"\n",
    "        pc: [N, in_channels] point cloud\n",
    "        knn: [N, k] precomputed neighbors indices\n",
    "        rel_dist: [N, k, 2] relative distances\n",
    "        \"\"\"\n",
    "\n",
    "        # A tensor where each point N has the features of its k neighbors\n",
    "        neighbor_feat = pc[knn] # [N, k, in_channels]\n",
    "\n",
    "        # A tensor with features of each point\n",
    "        center_feat = pc.unsqueeze(1).expand_as(neighbor_feat) # [N, k, in_channels]\n",
    "\n",
    "        # A tensor with relative distances of each neighbor to a point\n",
    "        rel_dist = rel_dist # [N, k, 2]\n",
    "\n",
    "        # Now we make up the final feature for each neighbor for message passing: [center_features, neighbor_features, relative_distance]\n",
    "        message_feat = torch.concat([center_feat, neighbor_feat, rel_dist], dim=2) # [N, k, in_channel*2 + 2]\n",
    "\n",
    "        result = self.mlp(message_feat) # [N, k, out_channels]\n",
    "\n",
    "        # Now we aggregate using max (basically a MaxPool)\n",
    "        values, indices = torch.max(result, dim=1)\n",
    "\n",
    "        return values\n",
    "\n",
    "\n",
    "# Sanity check\n",
    "x = LocalAggrLayer(2, 6) # A layer with 2D input and output 6D feature vector\n",
    "test_pc = torch.tensor([[0., 0.],[0., 1.],[0., 2.],[0., 3.]]) # Our test point cloud\n",
    "indices = knn_indices(test_pc, 2) # Calculate the indices of 2 neighbors\n",
    "relative_distances = test_pc[indices] - test_pc.unsqueeze(1) # The relative distances of each neighbor\n",
    "x(torch.tensor([[0., 0.],[0., 1.],[0., 2.],[0., 3.]]), indices, relative_distances)"
   ]
  },
  {
   "cell_type": "markdown",
   "id": "d17c9fb2-27a5-46cb-a3c0-937620b85ee1",
   "metadata": {
    "editable": false,
    "slideshow": {
     "slide_type": ""
    },
    "tags": []
   },
   "source": [
    "---\n",
    "## Training the model\n",
    "\n",
    "Now that we have defined a normal aggregation layer, let's start training it on our training set. First we will define the hyperparameters. The number of epochs is set to 1, as the model converges sufficiently using these parameters. The code is tested on an M1 MacBook.\n",
    "\n",
    "Feel free to experiment with different values!"
   ]
  },
  {
   "cell_type": "code",
   "execution_count": 57,
   "id": "bb502877-f173-4396-9ce6-a0aac7ddff35",
   "metadata": {
    "editable": true,
    "slideshow": {
     "slide_type": ""
    },
    "tags": []
   },
   "outputs": [],
   "source": [
    "# These parameters will be utilized for both training the normal and the DeLA version\n",
    "\n",
    "device = torch.device('cpu')\n",
    "\n",
    "in_channels = 2\n",
    "hidden_channels = 32\n",
    "out_channels = 64\n",
    "k = 5\n",
    "classes = 10\n",
    "learning_rate = 0.001\n",
    "epochs = 1"
   ]
  },
  {
   "cell_type": "markdown",
   "id": "83bb2d2d-200b-4cc5-8259-4b27b9b628ca",
   "metadata": {
    "editable": false,
    "slideshow": {
     "slide_type": ""
    },
    "tags": []
   },
   "source": [
    "Below, we will define our complete network that will predict the MNIST 2D point clouds. Notice that our network consists of 3 of our previously defined local aggregation layers. After applying a global max pool, we pass it through a fully connected layer to produce our predictions."
   ]
  },
  {
   "cell_type": "code",
   "execution_count": 39,
   "id": "c724bd2a-d913-42a6-a3c9-0741ea430977",
   "metadata": {},
   "outputs": [],
   "source": [
    "class GNN(nn.Module):\n",
    "    def __init__(self, in_channels, hidden_channels, out_channels):\n",
    "        super().__init__()\n",
    "        self.layer1 = LocalAggrLayer(in_channels, hidden_channels)\n",
    "        self.layer2 = LocalAggrLayer(hidden_channels, hidden_channels)\n",
    "        self.layer3 = LocalAggrLayer(hidden_channels, out_channels)\n",
    "        self.fc = nn.Linear(out_channels, classes)\n",
    "\n",
    "    \n",
    "    def forward(self, pc, knn, rel_dist):\n",
    "        \"\"\"\n",
    "        pc: [N, 2] point cloud\n",
    "        knn: [N, k] precomputed neighbors indices\n",
    "        rel_dist: [N, k, 2] relative distances\n",
    "        \"\"\"\n",
    "        x = self.layer1(pc, knn, rel_dist) # [N, in_channels]\n",
    "        x = self.layer2(x, knn, rel_dist) # [N, hidden_channels]\n",
    "        x = self.layer3(x, knn, rel_dist) # [N, out_channels]\n",
    "        \n",
    "        # Apply global max pooling\n",
    "        x, _ = torch.max(x, dim=0)\n",
    "\n",
    "        # Final classification head\n",
    "        x = self.fc(x)\n",
    "\n",
    "        return x"
   ]
  },
  {
   "cell_type": "markdown",
   "id": "2bd72af7-877f-463f-85dc-ebb6bad8c7ab",
   "metadata": {
    "editable": false,
    "slideshow": {
     "slide_type": ""
    },
    "tags": []
   },
   "source": [
    "Then, we define the model, optimizer, and criterion and run the training loop."
   ]
  },
  {
   "cell_type": "code",
   "execution_count": 58,
   "id": "242f5888-e2a2-436e-8d1b-098bb0b7e23d",
   "metadata": {
    "editable": true,
    "slideshow": {
     "slide_type": ""
    },
    "tags": []
   },
   "outputs": [
    {
     "name": "stdout",
     "output_type": "stream",
     "text": [
      "Epoch [1] 3200/60000, Accuracy: 0.23\n",
      "Epoch [1] 6400/60000, Accuracy: 0.42\n",
      "Epoch [1] 9600/60000, Accuracy: 0.54\n",
      "Epoch [1] 12800/60000, Accuracy: 0.62\n",
      "Epoch [1] 16000/60000, Accuracy: 0.66\n",
      "Epoch [1] 19200/60000, Accuracy: 0.69\n",
      "Epoch [1] 22400/60000, Accuracy: 0.72\n",
      "Epoch [1] 25600/60000, Accuracy: 0.74\n",
      "Epoch [1] 28800/60000, Accuracy: 0.76\n",
      "Epoch [1] 32000/60000, Accuracy: 0.77\n",
      "Epoch [1] 35200/60000, Accuracy: 0.79\n",
      "Epoch [1] 38400/60000, Accuracy: 0.80\n",
      "Epoch [1] 41600/60000, Accuracy: 0.81\n",
      "Epoch [1] 44800/60000, Accuracy: 0.82\n",
      "Epoch [1] 48000/60000, Accuracy: 0.82\n",
      "Epoch [1] 51200/60000, Accuracy: 0.83\n",
      "Epoch [1] 54400/60000, Accuracy: 0.83\n",
      "Epoch [1] 57600/60000, Accuracy: 0.84\n",
      "Epoch [1/1], Loss: 0.4739, Accuracy: 0.84\n"
     ]
    }
   ],
   "source": [
    "normal_model = GNN(in_channels, hidden_channels, out_channels).to(device)\n",
    "optimizer = optim.Adam(normal_model.parameters(), lr=learning_rate)\n",
    "criterion = nn.CrossEntropyLoss()\n",
    "\n",
    "# Train the model\n",
    "for epoch in range(epochs):\n",
    "    normal_model.train()\n",
    "    running_loss = 0\n",
    "    correct = 0\n",
    "    total = 0\n",
    "    \n",
    "    for points, labels in train_loader:\n",
    "        batch_loss = 0\n",
    "        correct_in_batch = 0\n",
    "\n",
    "        # Iterate over each point cloud in the batch\n",
    "        for i in range(len(points)):\n",
    "            pc = points[i].to(device)\n",
    "            label = labels[i].to(device)\n",
    "\n",
    "            knn = knn_indices(pc, k)\n",
    "\n",
    "            rel_dist = pc[knn] - pc.unsqueeze(1)\n",
    "\n",
    "            # Forward pass\n",
    "            outputs = normal_model(pc, knn, rel_dist)     \n",
    "            \n",
    "            # Compute loss\n",
    "            loss = criterion(outputs.unsqueeze(0), label.long())\n",
    "            batch_loss += loss\n",
    "            \n",
    "            _, predicted = torch.max(outputs, dim=0)\n",
    "            if predicted == label:\n",
    "                correct_in_batch += 1\n",
    "\n",
    "        # Track statistics\n",
    "        running_loss += batch_loss\n",
    "        correct += correct_in_batch\n",
    "        total += len(points)\n",
    "\n",
    "        optimizer.zero_grad()\n",
    "        batch_loss.backward()\n",
    "        optimizer.step()\n",
    "\n",
    "        # Print intermediary results each 3200 instances\n",
    "        if total % 3200 == 0:   \n",
    "            print(f\"Epoch [{epoch+1}] {total}/60000, Accuracy: {correct/total:.2f}\")\n",
    "\n",
    "    # Print statistics after each epoch\n",
    "    print(f\"Epoch [{epoch+1}/{epochs}], Loss: {running_loss/len(train_loader):.4f}, Accuracy: {correct/total:.2f}\")"
   ]
  },
  {
   "cell_type": "markdown",
   "id": "ce745021-2bf0-464d-ba74-8fa9aa1b9aba",
   "metadata": {
    "editable": false,
    "slideshow": {
     "slide_type": ""
    },
    "tags": []
   },
   "source": [
    "---\n",
    "## Implementing Decoupled Local Aggregation version\n",
    "\n",
    "Now as we have seen a standard local aggregation which models spatial information explicitly, let's jump into decoupling the spatial information. This is the core of the paper mentioned at the beginning, and in the following cells, we show how we could use the spatial regularization term to encode spatial information (relative distances) into point features directly.\n",
    "\n",
    "Below is an visual schematic of a decoupled local aggregation layer, and this is what we are going to implement:\n",
    "\n",
    "![Decoupled Local Aggregation src=\"dela.png\" width=\"750\"](dela.png)\n",
    "\n"
   ]
  },
  {
   "cell_type": "code",
   "execution_count": 59,
   "id": "64292434-96c4-4436-b71a-74703c675cca",
   "metadata": {
    "editable": true,
    "slideshow": {
     "slide_type": ""
    },
    "tags": []
   },
   "outputs": [
    {
     "data": {
      "text/plain": [
       "(tensor([[ 0.0640,  0.2148,  0.3572, -0.0132, -0.3145,  0.1156],\n",
       "         [ 0.1210,  0.0963,  0.3806, -0.1925, -0.2029,  0.0662],\n",
       "         [ 0.2334,  0.0501,  0.3927, -0.3541, -0.0458,  0.1445],\n",
       "         [ 0.3007, -0.2310,  0.4198, -0.5858,  0.0521, -0.0244]],\n",
       "        grad_fn=<MaxBackward0>),\n",
       " tensor(0.9003, grad_fn=<MseLossBackward0>))"
      ]
     },
     "execution_count": 59,
     "metadata": {},
     "output_type": "execute_result"
    }
   ],
   "source": [
    "class DecoupledLocalAggrLayer(nn.Module):\n",
    "    \"\"\"\n",
    "    Decoupled local aggregation layer\n",
    "    \"\"\"\n",
    "    def __init__(self, in_channels, out_channels):\n",
    "        super().__init__()\n",
    "        self.in_channels = in_channels\n",
    "        self.out_channels = out_channels\n",
    "\n",
    "        # Feature aggregation MLP\n",
    "        self.mlp = nn.Sequential(\n",
    "            nn.Linear(in_channels*2, out_channels),\n",
    "            nn.ReLU(),\n",
    "            nn.Linear(out_channels, out_channels)\n",
    "        )\n",
    "\n",
    "        self.cor_head_hidden_dim = 16\n",
    "\n",
    "        # Prediction MLP for predicting relative coordinates\n",
    "        self.pred_mlp = nn.Sequential(\n",
    "            nn.Linear(out_channels, self.cor_head_hidden_dim),\n",
    "            nn.ReLU(),\n",
    "            nn.Linear(self.cor_head_hidden_dim, 2)\n",
    "        )\n",
    "        \n",
    "\n",
    "    def forward(self, pc, knn, rel_dist):\n",
    "        \"\"\"\n",
    "        pc: [N, in_channels] point cloud\n",
    "        knn: [N, k] precomputed neighbors indices\n",
    "        rel_dist: [N, k, 2] relative distances\n",
    "        \"\"\"\n",
    "\n",
    "        # A tensor where each point N has the features of its k neighbors\n",
    "        neighbor_feat = pc[knn] # [N, k, in_channels]\n",
    "\n",
    "        # A tensor with features of each point\n",
    "        center_feat = pc.unsqueeze(1).expand_as(neighbor_feat) # [N, k, in_channels]\n",
    "\n",
    "        # Now we make up the final feature for each neighbor for message passing: [center_features, neighbor_features]\n",
    "        message_feat = torch.concat([center_feat, neighbor_feat], dim=2) # [N, k, in_channel*2]\n",
    "\n",
    "        result = self.mlp(message_feat) # [N, k, out_channels]\n",
    "        \n",
    "        # Regularization\n",
    "        if self.training:\n",
    "            pred_rel = self.pred_mlp(result) # Outputs the predicted relative distance between each center node and neighbor: [N, k, 2] \n",
    "            reg_loss = nn.functional.mse_loss(pred_rel, rel_dist) # Compare the prediction with ground truth\n",
    "        else:\n",
    "            reg_loss = 0\n",
    "        \n",
    "        # Now we aggregate using max (basically a MaxPool)\n",
    "        values, indices = torch.max(result, dim=1)\n",
    "\n",
    "        return values, reg_loss\n",
    "\n",
    "\n",
    "# Sanity check\n",
    "x = DecoupledLocalAggrLayer(2, 6) # A layer with 2D input and output 6D feature vector\n",
    "test_pc = torch.tensor([[0., 0.],[0., 1.],[0., 2.],[0., 3.]]) # Our test point cloud\n",
    "indices = knn_indices(test_pc, 2) # Calculate the indices of 2 neighbors\n",
    "relative_distances = test_pc[indices] - test_pc.unsqueeze(1) # The relative distances of each neighbor\n",
    "x(torch.tensor([[0., 0.],[0., 1.],[0., 2.],[0., 3.]]), indices, relative_distances)"
   ]
  },
  {
   "cell_type": "markdown",
   "id": "3ea70910-2719-499f-b9e7-25225d7b4cd7",
   "metadata": {
    "editable": false,
    "slideshow": {
     "slide_type": ""
    },
    "tags": []
   },
   "source": [
    "Our complete network to predict the 2D MNIST point clouds is given below and looks identical to the one before. The only difference is that each layer returns the regularization loss of the prediction of relative distances. This distance must be returned by the network to perform backprop. *Note: Because we have a simple 3 layer network, I hardcoded the total regularization loss as the sum of the three, one could simply add the losses dynamically to use more layers.*"
   ]
  },
  {
   "cell_type": "code",
   "execution_count": 60,
   "id": "d42fc1f8-3ec1-4b8b-83fb-9ec99a47f9bf",
   "metadata": {
    "editable": true,
    "slideshow": {
     "slide_type": ""
    },
    "tags": []
   },
   "outputs": [],
   "source": [
    "class DeLAGNN(nn.Module):\n",
    "    def __init__(self, in_channels, hidden_channels, out_channels):\n",
    "        super().__init__()\n",
    "        self.layer1 = DecoupledLocalAggrLayer(in_channels, hidden_channels)\n",
    "        self.layer2 = DecoupledLocalAggrLayer(hidden_channels, hidden_channels)\n",
    "        self.layer3 = DecoupledLocalAggrLayer(hidden_channels, out_channels)\n",
    "        self.fc = nn.Linear(out_channels, classes)\n",
    "\n",
    "    \n",
    "    def forward(self, pc, knn, rel_dist):\n",
    "        x, reg_loss1 = self.layer1(pc, knn, rel_dist)\n",
    "        x, reg_loss2 = self.layer2(x, knn, rel_dist)\n",
    "        x, reg_loss3 = self.layer3(x, knn, rel_dist)\n",
    "        \n",
    "        # Apply global max pooling\n",
    "        x, _ = torch.max(x, dim=0)\n",
    "\n",
    "        # Final classification head\n",
    "        x = self.fc(x)\n",
    "\n",
    "        total_reg_loss = reg_loss1 + reg_loss2 + reg_loss3\n",
    "\n",
    "        return x, total_reg_loss"
   ]
  },
  {
   "cell_type": "markdown",
   "id": "0a07de22-8c1b-43ab-b7b7-9f00fd6387cc",
   "metadata": {
    "editable": false,
    "slideshow": {
     "slide_type": ""
    },
    "tags": []
   },
   "source": [
    "Finally, we train the DeLA version of our model using the same hyperparameters as before, so make sure you have ran the cell with the hyperparameters."
   ]
  },
  {
   "cell_type": "code",
   "execution_count": 61,
   "id": "c7b4c036-3bb8-421b-998d-cc4147ca3ca7",
   "metadata": {
    "editable": true,
    "slideshow": {
     "slide_type": ""
    },
    "tags": []
   },
   "outputs": [
    {
     "name": "stdout",
     "output_type": "stream",
     "text": [
      "Epoch [1] 3200/60000, Accuracy: 0.37\n",
      "Epoch [1] 6400/60000, Accuracy: 0.48\n",
      "Epoch [1] 9600/60000, Accuracy: 0.56\n",
      "Epoch [1] 12800/60000, Accuracy: 0.62\n",
      "Epoch [1] 16000/60000, Accuracy: 0.65\n",
      "Epoch [1] 19200/60000, Accuracy: 0.69\n",
      "Epoch [1] 22400/60000, Accuracy: 0.71\n",
      "Epoch [1] 25600/60000, Accuracy: 0.73\n",
      "Epoch [1] 28800/60000, Accuracy: 0.75\n",
      "Epoch [1] 32000/60000, Accuracy: 0.76\n",
      "Epoch [1] 35200/60000, Accuracy: 0.77\n",
      "Epoch [1] 38400/60000, Accuracy: 0.78\n",
      "Epoch [1] 41600/60000, Accuracy: 0.79\n",
      "Epoch [1] 44800/60000, Accuracy: 0.80\n",
      "Epoch [1] 48000/60000, Accuracy: 0.81\n",
      "Epoch [1] 51200/60000, Accuracy: 0.81\n",
      "Epoch [1] 54400/60000, Accuracy: 0.82\n",
      "Epoch [1] 57600/60000, Accuracy: 0.83\n",
      "Epoch [1/1], Loss: 0.5789, Accuracy: 0.83\n"
     ]
    }
   ],
   "source": [
    "dela_model = DeLAGNN(in_channels, hidden_channels, out_channels).to(device)\n",
    "optimizer = optim.Adam(dela_model.parameters(), lr=learning_rate)\n",
    "criterion = nn.CrossEntropyLoss()\n",
    "\n",
    "# Train the model\n",
    "for epoch in range(epochs):\n",
    "    dela_model.train()\n",
    "    running_loss = 0.0\n",
    "    correct = 0\n",
    "    total = 0\n",
    "    \n",
    "    for points, labels in train_loader:\n",
    "        batch_loss = 0.0\n",
    "        correct_in_batch = 0\n",
    "\n",
    "        # Iterate over each point cloud in the batch\n",
    "        for i in range(len(points)):\n",
    "            point_cloud = points[i].to(device)\n",
    "            label = labels[i].to(device)\n",
    "\n",
    "            knn = knn_indices(point_cloud, k)\n",
    "\n",
    "            rel_dist = point_cloud[knn] - point_cloud.unsqueeze(1)\n",
    "\n",
    "            # Forward pass\n",
    "            outputs, reg_loss = dela_model(point_cloud, knn, rel_dist)     \n",
    "            \n",
    "            # Compute loss\n",
    "            loss = criterion(outputs.unsqueeze(0), label.long())\n",
    "            batch_loss += loss + reg_loss\n",
    "            \n",
    "            _, predicted = torch.max(outputs, dim=0)\n",
    "            if predicted == label:\n",
    "                correct_in_batch += 1\n",
    "\n",
    "        # Track statistics\n",
    "        running_loss += batch_loss\n",
    "        correct += correct_in_batch\n",
    "        total += len(points)\n",
    "\n",
    "        optimizer.zero_grad()\n",
    "        batch_loss.backward()\n",
    "        optimizer.step()\n",
    "\n",
    "        # Print intermediary results each 3200 instances\n",
    "        if total % 3200 == 0:   \n",
    "            print(f\"Epoch [{epoch+1}] {total}/60000, Accuracy: {correct/total:.2f}\")\n",
    "\n",
    "    # Print statistics after each epoch\n",
    "    print(f\"Epoch [{epoch+1}/{epochs}], Loss: {running_loss/len(train_loader):.4f}, Accuracy: {correct/total:.2f}\")"
   ]
  },
  {
   "cell_type": "markdown",
   "id": "b6325ed5-ea2d-4448-99f8-47617d8f9a12",
   "metadata": {
    "editable": false,
    "slideshow": {
     "slide_type": ""
    },
    "tags": []
   },
   "source": [
    "Let's test the two models using the testset, while measuring the speed. The DeLA should be generally faster, however since we have simple 3 layer network and we use 2D point clouds with a maximum of 351 points, the speedup is not significant or noticable at first. However, in practical settings with 3D point clouds with many points and deeper networks, the speedup should be noticable, as illustrated by the paper."
   ]
  },
  {
   "cell_type": "code",
   "execution_count": 62,
   "id": "43c676ae-bf2a-4721-bb59-c6e768016ad8",
   "metadata": {
    "editable": true,
    "slideshow": {
     "slide_type": ""
    },
    "tags": []
   },
   "outputs": [
    {
     "name": "stdout",
     "output_type": "stream",
     "text": [
      "Test accuracy on normal model: 91.01%, took 12.950258958997438 seconds\n",
      "Test accuracy on DeLA model: 95.66%, took 12.404256709007313 seconds\n"
     ]
    }
   ],
   "source": [
    "def testNormalGNN():\n",
    "    \"\"\"\n",
    "    Validate the accuracy of the normal model on the testset\n",
    "    \"\"\"\n",
    "    k = 5\n",
    "    normal_model.eval()\n",
    "    correct = 0\n",
    "    total = 0\n",
    "\n",
    "    start = time.perf_counter()\n",
    "    \n",
    "    with torch.no_grad():\n",
    "        for points, labels in test_loader:\n",
    "            for i in range(len(points)):\n",
    "                pc = points[i].to(device) # [N, 2]\n",
    "                label = labels[i].to(device)\n",
    "    \n",
    "                knn = knn_indices(pc, k) # [N, k]\n",
    "                rel_dist = pc[knn] - pc.unsqueeze(1) # [N, k, 2]\n",
    "    \n",
    "                outputs = normal_model(pc, knn, rel_dist)\n",
    "    \n",
    "                _, predicted = torch.max(outputs, dim=0)\n",
    "                if predicted == label:\n",
    "                    correct += 1\n",
    "                total += 1\n",
    "\n",
    "    elapsed = time.perf_counter() - start\n",
    "    print(f'Test accuracy on normal model: {100 * correct / total:.2f}%, took {elapsed} seconds')\n",
    "\n",
    "    \n",
    "def testDeLAGNN():\n",
    "    \"\"\"\n",
    "    Validate the accuracy of the DeLA model on the testset\n",
    "    \"\"\"\n",
    "    k = 5\n",
    "    dela_model.eval()\n",
    "    correct = 0\n",
    "    total = 0\n",
    "\n",
    "    start = time.perf_counter()\n",
    "    with torch.no_grad():\n",
    "        for points, labels in test_loader:\n",
    "            for i in range(len(points)):\n",
    "                pc = points[i].to(device) # [N, 2]\n",
    "                label = labels[i].to(device)\n",
    "    \n",
    "                knn = knn_indices(pc, k) # [N, k]\n",
    "                rel_dist = pc[knn] - pc.unsqueeze(1) # [N, k, 2]\n",
    "    \n",
    "                outputs, _ = dela_model(pc, knn, rel_dist)\n",
    "    \n",
    "                _, predicted = torch.max(outputs, dim=0)\n",
    "                if predicted == label:\n",
    "                    correct += 1\n",
    "                total += 1\n",
    "\n",
    "    elapsed = time.perf_counter() - start\n",
    "    print(f'Test accuracy on DeLA model: {100 * correct / total:.2f}%, took {elapsed} seconds')\n",
    "\n",
    "testNormalGNN()\n",
    "testDeLAGNN()"
   ]
  },
  {
   "cell_type": "markdown",
   "id": "9c716ab9-0366-4667-9963-61975071b694",
   "metadata": {
    "editable": false,
    "slideshow": {
     "slide_type": ""
    },
    "tags": []
   },
   "source": [
    "---\n",
    "## Visualizing the predictive performance of DeLA\n",
    "In the cell below, we visualize the predictions of the prediction MLP inside the first layer. As can be seen, the predictions are quite reasonable. Notice that these predictions are encoded in the features!"
   ]
  },
  {
   "cell_type": "code",
   "execution_count": 66,
   "id": "80fcd567-994e-4fe5-a703-30b671d6ec18",
   "metadata": {
    "editable": true,
    "slideshow": {
     "slide_type": ""
    },
    "tags": []
   },
   "outputs": [
    {
     "data": {
      "application/vnd.jupyter.widget-view+json": {
       "model_id": "690ba35d09b14aefbfbed344dd7b6623",
       "version_major": 2,
       "version_minor": 0
      },
      "text/plain": [
       "interactive(children=(IntSlider(value=0, description='i', layout=Layout(width='900px'), max=115), Output()), _…"
      ]
     },
     "metadata": {},
     "output_type": "display_data"
    }
   ],
   "source": [
    "%matplotlib widget\n",
    "dela_model.eval()\n",
    "\n",
    "coords, label = test_ds[0]\n",
    "coords = coords.unsqueeze(0)\n",
    "pc = coords[0].to(device) # [N, 2]\n",
    "label = label[0].item()\n",
    "\n",
    "\n",
    "k = 5\n",
    "knn = knn_indices(pc, k)\n",
    "\n",
    "\n",
    "neighbor_feat = pc[knn] # [N, k, 2]\n",
    "center_feat = pc.unsqueeze(1).expand_as(neighbor_feat) # [N, k, 2]\n",
    "center_coords = center_feat\n",
    "message_feat = torch.cat([center_feat, neighbor_feat], dim=2) # [N, k, 4]\n",
    "\n",
    "pred_feat = dela_model.layer1.mlp(message_feat) # [N, k, hidden_channels=16]\n",
    "pred_rel = dela_model.layer1.pred_mlp(pred_feat) # [N, k, 2]\n",
    "pred_coords = center_coords + pred_rel # [N, k, 2]\n",
    "\n",
    "pc_np = pc.cpu().numpy()\n",
    "pred_coords_np = pred_coords.cpu().detach().numpy()\n",
    "knn_np = knn.cpu().numpy()\n",
    "\n",
    "\n",
    "def show_pred(i):\n",
    "    plt.close('all')\n",
    "    plt.figure(figsize=(10, 9))\n",
    "    plt.scatter(pc_np[:, 0], pc_np[:, 1], c='lightgray', label='Point cloud')\n",
    "    plt.scatter(pc_np[i, 0], pc_np[i, 1], c='red', label='Center point', s=60)\n",
    "    \n",
    "    colors = cm.tab10(np.linspace(0, 1, k))[:, :3]\n",
    "    darker_colors = colors * 0\n",
    "    \n",
    "    for j in range(k):\n",
    "        neighbor_idx = knn_np[i, j]\n",
    "        true_neighbor = pc_np[neighbor_idx]\n",
    "        predicted_neighbor = pred_coords_np[i, j]\n",
    "    \n",
    "        plt.scatter(true_neighbor[0], true_neighbor[1], color=colors[j], label=f'True neighbor {j+1}', s=30)\n",
    "        plt.scatter(predicted_neighbor[0], predicted_neighbor[1], color=darker_colors[j], marker='x', s=30, label=f'Predicted neighbor {j+1}')\n",
    "\n",
    "        # Plot lines\n",
    "        plt.plot([pc_np[i, 0], true_neighbor[0]], [pc_np[i, 1], true_neighbor[1]], color=colors[j], linestyle='--', linewidth=1)\n",
    "        plt.plot([pc_np[i, 0], predicted_neighbor[0]], [pc_np[i, 1], predicted_neighbor[1]], color=darker_colors[j], linestyle='-', linewidth=1)\n",
    "\n",
    "    plt.title(f\"Predicted neighbor positions, label: {int(label)}\")\n",
    "    plt.legend(\n",
    "        loc='upper center',\n",
    "        bbox_to_anchor=(0.5, -0.1),\n",
    "        ncol=3,\n",
    "    )\n",
    "    plt.subplots_adjust(bottom=0.25)\n",
    "    plt.grid(True)\n",
    "    plt.axis('equal')\n",
    "    plt.show()\n",
    "\n",
    "\n",
    "interact(show_pred, i=IntSlider(min=0, max=pc_np.shape[0] - 1, step=1, value=0, layout=Layout(width='900px')));\n"
   ]
  },
  {
   "cell_type": "markdown",
   "id": "05f3ae0c-66d4-4b72-9be5-ae8cdb49992c",
   "metadata": {
    "editable": false,
    "slideshow": {
     "slide_type": ""
    },
    "tags": []
   },
   "source": [
    "The following cell visualizes the predictions of each of the 3 layers used in our model."
   ]
  },
  {
   "cell_type": "code",
   "execution_count": 68,
   "id": "d9a0f2d1-82bb-4403-b175-160b95f48586",
   "metadata": {
    "editable": true,
    "slideshow": {
     "slide_type": ""
    },
    "tags": []
   },
   "outputs": [
    {
     "data": {
      "application/vnd.jupyter.widget-view+json": {
       "model_id": "e52057ac84db4c19b42b504fe36c5925",
       "version_major": 2,
       "version_minor": 0
      },
      "text/plain": [
       "interactive(children=(IntSlider(value=0, description='i', layout=Layout(width='1000px'), max=115), Output()), …"
      ]
     },
     "metadata": {},
     "output_type": "display_data"
    },
    {
     "data": {
      "application/vnd.jupyter.widget-view+json": {
       "model_id": "07baba37f3574b5ab3f5e8be40a7807e",
       "version_major": 2,
       "version_minor": 0
      },
      "image/png": "[encoded data removed]",
      "text/html": [
       "\n",
       "            <div style=\"display: inline-block;\">\n",
       "                <div class=\"jupyter-widgets widget-label\" style=\"text-align: center;\">\n",
       "                    Figure\n",
       "                </div>\n",
       "                <img src='data:image/png;base64,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' width=1400.0/>\n",
       "            </div>\n",
       "        "
      ],
      "text/plain": [
       "Canvas(toolbar=Toolbar(toolitems=[('Home', 'Reset original view', 'home', 'home'), ('Back', 'Back to previous …"
      ]
     },
     "metadata": {},
     "output_type": "display_data"
    }
   ],
   "source": [
    "%matplotlib widget\n",
    "\n",
    "dela_model.eval()\n",
    "\n",
    "coords, label = test_ds[0]\n",
    "coords = coords.unsqueeze(0)\n",
    "pc = coords[0].to(device) # [N, 2]\n",
    "label = label[0].item()\n",
    "\n",
    "\n",
    "k = 5\n",
    "knn = knn_indices(pc, k)\n",
    "\n",
    "\n",
    "# Compute predicted relative distances in layer 1\n",
    "neighbor_feat = pc[knn] # [N, k, 2]\n",
    "center_feat = pc.unsqueeze(1).expand_as(neighbor_feat) # [N, k, 2]\n",
    "center_coords = center_feat\n",
    "message_feat = torch.cat([center_feat, neighbor_feat], dim=2) # [N, k, 4]\n",
    "\n",
    "pred_feat = dela_model.layer1.mlp(message_feat) # [N, k, hidden_channels=16]\n",
    "pred_rel = dela_model.layer1.pred_mlp(pred_feat) # [N, k, 2]\n",
    "pred_coords = center_coords + pred_rel # [N, k, 2]\n",
    "\n",
    "pc_np = pc.cpu().numpy()\n",
    "knn_np = knn.cpu().numpy()\n",
    "pred_coords_1_np = pred_coords.cpu().detach().numpy()\n",
    "\n",
    "\n",
    "\n",
    "# Comptute predicted relative distances in layer 2\n",
    "# Feed through layer 1 [2 -> 16]\n",
    "out, _  = dela_model.layer1(pc, knn, rel_dist) # out: [N, hidden_dim=16]\n",
    "\n",
    "# Feed through layer 2 [16 -> 16]\n",
    "neighbor_feat = out[knn] # [N, k, 16]\n",
    "center_feat = out.unsqueeze(1).expand_as(neighbor_feat) # [N, k, 16]\n",
    "message_feat = torch.cat([center_feat, neighbor_feat], dim=2) # [N, k, 16*2]\n",
    "\n",
    "pred_feat = dela_model.layer2.mlp(message_feat) # [N, k, 16]\n",
    "pred_rel = dela_model.layer2.pred_mlp(pred_feat) # [N, k, 2]\n",
    "pred_coords = center_coords + pred_rel # [N, k, 2]\n",
    "\n",
    "pred_coords_2_np = pred_coords.cpu().detach().numpy()\n",
    "\n",
    "\n",
    "# Computepredicted relative distances in layer 3\n",
    "# Feed through layer 1 [2 -> 16]\n",
    "out, _  = dela_model.layer1(pc, knn, rel_dist) # out: [N, hidden_dim=16]\n",
    "\n",
    "# Feed through layer 2 [16 -> 16]\n",
    "out, _  = dela_model.layer2(out, knn, rel_dist) # out: [N, hidden_dim=16]\n",
    "\n",
    "# Feed through layer 3 [16 -> 32]\n",
    "neighbor_feat = out[knn] # [N, k, 16]\n",
    "center_feat = out.unsqueeze(1).expand_as(neighbor_feat) # [N, k, 16]\n",
    "message_feat = torch.cat([center_feat, neighbor_feat], dim=2) # [N, k, 16*2]\n",
    "\n",
    "pred_feat = dela_model.layer3.mlp(message_feat) # [N, k, 32]\n",
    "pred_rel = dela_model.layer3.pred_mlp(pred_feat) # [N, k, 2]\n",
    "pred_coords = center_coords + pred_rel # [N, k, 2]\n",
    "\n",
    "pred_coords_3_np = pred_coords.cpu().detach().numpy()\n",
    "\n",
    "\n",
    "data = [pred_coords_1_np, pred_coords_2_np, pred_coords_3_np]\n",
    "\n",
    "\n",
    "fig, axes = plt.subplots(1, 3, figsize=(14, 5))\n",
    "# fig.subplots_adjust(top=0.98, bottom=0.02)\n",
    "fig.subplots_adjust(left=0, right=1)\n",
    "\n",
    "\n",
    "def show_pred(i):\n",
    "    for idx, ax in enumerate(axes):\n",
    "        ax.clear()\n",
    "        # plt.figure(figsize=(10, 9))\n",
    "        ax.scatter(pc_np[:, 0], pc_np[:, 1], c='lightgray', label='Point cloud')\n",
    "        ax.scatter(pc_np[i, 0], pc_np[i, 1], c='red', label='Center point', s=30)\n",
    "        \n",
    "        colors = cm.tab10(np.linspace(0, 1, k))[:, :3]\n",
    "        darker_colors = colors * 0\n",
    "        \n",
    "        for j in range(k):\n",
    "            neighbor_idx = knn_np[i, j]\n",
    "            true_neighbor = pc_np[neighbor_idx]\n",
    "            predicted_neighbor = data[idx][i, j]\n",
    "        \n",
    "            ax.scatter(true_neighbor[0], true_neighbor[1], color=colors[j], label=f'True neighbor {j+1}', s=20)\n",
    "            ax.scatter(predicted_neighbor[0], predicted_neighbor[1], color=darker_colors[j], marker='x', s=20, label=f'Predicted neighbor {j+1}')\n",
    "    \n",
    "            # Plot lines\n",
    "            ax.plot([pc_np[i, 0], true_neighbor[0]], [pc_np[i, 1], true_neighbor[1]], color=colors[j], linestyle='--', linewidth=1)\n",
    "            ax.plot([pc_np[i, 0], predicted_neighbor[0]], [pc_np[i, 1], predicted_neighbor[1]], color=darker_colors[j], linestyle='-', linewidth=1)\n",
    "    \n",
    "        ax.set_title(f\"Predictions in Layer {idx+1}\")\n",
    "\n",
    "\n",
    "interact(show_pred, i=IntSlider(min=0, max=pc_np.shape[0] - 1, step=1, value=0, layout=Layout(width='1000px')));\n"
   ]
  },
  {
   "cell_type": "markdown",
   "id": "34ac53d3-bacd-4ba7-913a-f2d23b4665e0",
   "metadata": {},
   "source": [
    "---\n",
    "# Conclusion\n",
    "This concludes this notebook. In this notebook, we have illustrated in high level how the Decoupled Local Aggregation mechanism works in the paper [Decoupled Local Aggregation for Point Cloud Learning](https://arxiv.org/abs/2308.16532). We have explored the mechanism of decoupling the local aggregation on a toy example using the 2D MNIST point cloud dataset. In particular, we have constructed a simple 2D point cloud classifier with and without decoupled local aggregation. Furthermore, we have shown that even in this simple examlple, that the accuracies with and without docoupled local aggregation are comparable, and that the relative distances are fairly well encoded in the feature vectors of the point embeddings. Even though our example is in 2D, it can be naturally extended into 3D space."
   ]
  }
 ],
 "metadata": {
  "kernelspec": {
   "display_name": "Python 3 (ipykernel)",
   "language": "python",
   "name": "python3"
  },
  "language_info": {
   "codemirror_mode": {
    "name": "ipython",
    "version": 3
   },
   "file_extension": ".py",
   "mimetype": "text/x-python",
   "name": "python",
   "nbconvert_exporter": "python",
   "pygments_lexer": "ipython3",
   "version": "3.11.13"
  }
 },
 "nbformat": 4,
 "nbformat_minor": 5
}
